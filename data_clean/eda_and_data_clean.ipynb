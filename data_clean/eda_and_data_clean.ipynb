{
 "cells": [
  {
   "cell_type": "markdown",
   "metadata": {},
   "source": [
    "OVERALL GOAL: Get an understanding for which variables are important, view summary statistics, and visualize the data"
   ]
  },
  {
   "cell_type": "markdown",
   "metadata": {},
   "source": [
    "# EDA"
   ]
  },
  {
   "cell_type": "code",
   "execution_count": 1,
   "metadata": {},
   "outputs": [],
   "source": [
    "# -*- coding: utf-8 -*-\n",
    "from __future__ import unicode_literals\n",
    "import numpy as np\n",
    "import pandas as pd\n",
    "import matplotlib.pyplot as plt\n",
    "import seaborn as sns\n",
    "\n",
    "%matplotlib inline"
   ]
  },
  {
   "cell_type": "code",
   "execution_count": 2,
   "metadata": {},
   "outputs": [],
   "source": [
    "df = pd.read_csv('../data_collect/housing_data_thailand_2021.csv')"
   ]
  },
  {
   "cell_type": "code",
   "execution_count": 3,
   "metadata": {},
   "outputs": [
    {
     "data": {
      "text/html": [
       "<div>\n",
       "<style scoped>\n",
       "    .dataframe tbody tr th:only-of-type {\n",
       "        vertical-align: middle;\n",
       "    }\n",
       "\n",
       "    .dataframe tbody tr th {\n",
       "        vertical-align: top;\n",
       "    }\n",
       "\n",
       "    .dataframe thead th {\n",
       "        text-align: right;\n",
       "    }\n",
       "</style>\n",
       "<table border=\"1\" class=\"dataframe\">\n",
       "  <thead>\n",
       "    <tr style=\"text-align: right;\">\n",
       "      <th></th>\n",
       "      <th>address</th>\n",
       "      <th>areas</th>\n",
       "      <th>beds</th>\n",
       "      <th>baths</th>\n",
       "      <th>descriptions</th>\n",
       "      <th>listing_date</th>\n",
       "      <th>prices</th>\n",
       "      <th>status</th>\n",
       "      <th>titles</th>\n",
       "    </tr>\n",
       "  </thead>\n",
       "  <tbody>\n",
       "    <tr>\n",
       "      <th>0</th>\n",
       "      <td>หางดง, หางดง, เชียงใหม่</td>\n",
       "      <td>50.0</td>\n",
       "      <td>3.0</td>\n",
       "      <td>3.0</td>\n",
       "      <td>รหัส  :  SH0222  🍭บ้าน สวย หลังใหญ่ ใกล้เมือง ...</td>\n",
       "      <td>19 October 2021</td>\n",
       "      <td>2,490,000</td>\n",
       "      <td>ใหม่</td>\n",
       "      <td>บ้านเดี่ยว 2 ชั้น พท. ที่ใช้สอย 135 ตร. ม.  ใก...</td>\n",
       "    </tr>\n",
       "    <tr>\n",
       "      <th>1</th>\n",
       "      <td>ลาดพร้าว, ลาดพร้าว, กรุงเทพมหานคร</td>\n",
       "      <td>82.0</td>\n",
       "      <td>3.0</td>\n",
       "      <td>4.0</td>\n",
       "      <td>ขายเดี่ยว 2 ชั้นไพรเวท เนอวานา เรสสิเดนซ์ หลัง...</td>\n",
       "      <td>18 October 2021</td>\n",
       "      <td>23,900,000</td>\n",
       "      <td>มือสอง</td>\n",
       "      <td>ขายเดี่ยว 2 ชั้นไพรเวท เนอวานา เรสสิเดนซ์ หลัง...</td>\n",
       "    </tr>\n",
       "    <tr>\n",
       "      <th>2</th>\n",
       "      <td>หลักสอง, บางแค, กรุงเทพมหานคร</td>\n",
       "      <td>40.0</td>\n",
       "      <td>3.0</td>\n",
       "      <td>2.0</td>\n",
       "      <td>**ฟังก์ชันบ้าน**ห้องนอน : 3 ห้องห้องน้ำ : 2 ห้...</td>\n",
       "      <td>18 October 2021</td>\n",
       "      <td>3,990,000</td>\n",
       "      <td>มือสอง</td>\n",
       "      <td>บ้านแฝด ม. ปารวีร์ เพชรเกษม63 ใกล้เดอะมอลล์บาง...</td>\n",
       "    </tr>\n",
       "    <tr>\n",
       "      <th>3</th>\n",
       "      <td>กระทุ่มล้ม, สามพราน, นครปฐม</td>\n",
       "      <td>100.0</td>\n",
       "      <td>4.0</td>\n",
       "      <td>3.0</td>\n",
       "      <td>ขายบ้านเดี่ยว 2ชั้น หมู่บ้าน  มณฑลทิพย์ ต. กระ...</td>\n",
       "      <td>18 October 2021</td>\n",
       "      <td>5,500,000</td>\n",
       "      <td>มือสอง</td>\n",
       "      <td>ขายบ้านเดี่ยว 100 ตรว หมู่บ้านมณฑลทิพย์ พุทธมณ...</td>\n",
       "    </tr>\n",
       "    <tr>\n",
       "      <th>4</th>\n",
       "      <td>ศาลายา, พุทธมณฑล, นครปฐม</td>\n",
       "      <td>50.0</td>\n",
       "      <td>3.0</td>\n",
       "      <td>2.0</td>\n",
       "      <td>ขายบ้านเดี่ยว หมู่บ้านคณาสิริ ศาลายา ราคาเพียง...</td>\n",
       "      <td>18 October 2021</td>\n",
       "      <td>4,200,000</td>\n",
       "      <td>มือสอง</td>\n",
       "      <td>บ้านเดี่ยว คณาสิริ ศาลายา ราคาเพียง 4.2 บิ้วอิ...</td>\n",
       "    </tr>\n",
       "    <tr>\n",
       "      <th>5</th>\n",
       "      <td>สันทราย, เมืองเชียงราย, เชียงราย</td>\n",
       "      <td>73.0</td>\n",
       "      <td>4.0</td>\n",
       "      <td>4.0</td>\n",
       "      <td>หมู่บ้านศิริพรการ์เด้นโฮม 9 ตั้งอยู่ที่ สันนาเ...</td>\n",
       "      <td>18 October 2021</td>\n",
       "      <td>3,200,000</td>\n",
       "      <td>มือสอง</td>\n",
       "      <td>มองหาบ้านสำหรับครอบครัวขนาดใหญ่อยู่รึป่าว ? นี...</td>\n",
       "    </tr>\n",
       "    <tr>\n",
       "      <th>6</th>\n",
       "      <td>ลาดสวาย, ลำลูกกา, ปทุมธานี</td>\n",
       "      <td>84.0</td>\n",
       "      <td>3.0</td>\n",
       "      <td>2.0</td>\n",
       "      <td>ขายบ้านเดี่ยวลำลูกกา คลอง4 ขนาด 84 ตรว  ขายบ้า...</td>\n",
       "      <td>17 October 2021</td>\n",
       "      <td>4,950,000</td>\n",
       "      <td>มือสอง</td>\n",
       "      <td>ขายบ้านเดี่ยวลำลูกกา คลอง4  ขนาด 84 ตรว มี 3  ...</td>\n",
       "    </tr>\n",
       "    <tr>\n",
       "      <th>7</th>\n",
       "      <td>วัดไทรย์, เมืองนครสวรรค์, นครสวรรค์</td>\n",
       "      <td>NaN</td>\n",
       "      <td>4.0</td>\n",
       "      <td>4.0</td>\n",
       "      <td>#579796บ้านเดี่ยว  2 ชั้น อยู่ในโครงการ ดีพร้อ...</td>\n",
       "      <td>19 October 2021</td>\n",
       "      <td>10,500,000</td>\n",
       "      <td>มือสอง</td>\n",
       "      <td>ขายด่วน! บ้านเดี่ยว  2 ชั้น โครงการ ดีพร้อม วิ...</td>\n",
       "    </tr>\n",
       "    <tr>\n",
       "      <th>8</th>\n",
       "      <td>บางละมุง, บางละมุง, ชลบุรี</td>\n",
       "      <td>73.0</td>\n",
       "      <td>3.0</td>\n",
       "      <td>3.0</td>\n",
       "      <td>ขายบ้านเดี่ยวหลังริมบางละมุง พัทยา⭐️ขาย 3.99 ล...</td>\n",
       "      <td>17 October 2021</td>\n",
       "      <td>3,999,000</td>\n",
       "      <td>มือสอง</td>\n",
       "      <td>บ้านเดี่ยว บางละมุง</td>\n",
       "    </tr>\n",
       "    <tr>\n",
       "      <th>9</th>\n",
       "      <td>ศรีราชา, ศรีราชา, ชลบุรี</td>\n",
       "      <td>NaN</td>\n",
       "      <td>3.0</td>\n",
       "      <td>3.0</td>\n",
       "      <td>ขาย บ้านคันทรีโฮม 3 ศรีราชา - หนองยายบู่ 99.6 ...</td>\n",
       "      <td>16 October 2021</td>\n",
       "      <td>5,300,000</td>\n",
       "      <td>มือสอง</td>\n",
       "      <td>ขาย บ้านคันทรีโฮม 3 ศรีราชา - หนองยายบู่ 99.6 ...</td>\n",
       "    </tr>\n",
       "  </tbody>\n",
       "</table>\n",
       "</div>"
      ],
      "text/plain": [
       "                               address  areas  beds  baths  \\\n",
       "0              หางดง, หางดง, เชียงใหม่   50.0   3.0    3.0   \n",
       "1    ลาดพร้าว, ลาดพร้าว, กรุงเทพมหานคร   82.0   3.0    4.0   \n",
       "2        หลักสอง, บางแค, กรุงเทพมหานคร   40.0   3.0    2.0   \n",
       "3          กระทุ่มล้ม, สามพราน, นครปฐม  100.0   4.0    3.0   \n",
       "4             ศาลายา, พุทธมณฑล, นครปฐม   50.0   3.0    2.0   \n",
       "5     สันทราย, เมืองเชียงราย, เชียงราย   73.0   4.0    4.0   \n",
       "6           ลาดสวาย, ลำลูกกา, ปทุมธานี   84.0   3.0    2.0   \n",
       "7  วัดไทรย์, เมืองนครสวรรค์, นครสวรรค์    NaN   4.0    4.0   \n",
       "8           บางละมุง, บางละมุง, ชลบุรี   73.0   3.0    3.0   \n",
       "9             ศรีราชา, ศรีราชา, ชลบุรี    NaN   3.0    3.0   \n",
       "\n",
       "                                        descriptions     listing_date  \\\n",
       "0  รหัส  :  SH0222  🍭บ้าน สวย หลังใหญ่ ใกล้เมือง ...  19 October 2021   \n",
       "1  ขายเดี่ยว 2 ชั้นไพรเวท เนอวานา เรสสิเดนซ์ หลัง...  18 October 2021   \n",
       "2  **ฟังก์ชันบ้าน**ห้องนอน : 3 ห้องห้องน้ำ : 2 ห้...  18 October 2021   \n",
       "3  ขายบ้านเดี่ยว 2ชั้น หมู่บ้าน  มณฑลทิพย์ ต. กระ...  18 October 2021   \n",
       "4  ขายบ้านเดี่ยว หมู่บ้านคณาสิริ ศาลายา ราคาเพียง...  18 October 2021   \n",
       "5  หมู่บ้านศิริพรการ์เด้นโฮม 9 ตั้งอยู่ที่ สันนาเ...  18 October 2021   \n",
       "6  ขายบ้านเดี่ยวลำลูกกา คลอง4 ขนาด 84 ตรว  ขายบ้า...  17 October 2021   \n",
       "7  #579796บ้านเดี่ยว  2 ชั้น อยู่ในโครงการ ดีพร้อ...  19 October 2021   \n",
       "8  ขายบ้านเดี่ยวหลังริมบางละมุง พัทยา⭐️ขาย 3.99 ล...  17 October 2021   \n",
       "9  ขาย บ้านคันทรีโฮม 3 ศรีราชา - หนองยายบู่ 99.6 ...  16 October 2021   \n",
       "\n",
       "       prices  status                                             titles  \n",
       "0   2,490,000    ใหม่  บ้านเดี่ยว 2 ชั้น พท. ที่ใช้สอย 135 ตร. ม.  ใก...  \n",
       "1  23,900,000  มือสอง  ขายเดี่ยว 2 ชั้นไพรเวท เนอวานา เรสสิเดนซ์ หลัง...  \n",
       "2   3,990,000  มือสอง  บ้านแฝด ม. ปารวีร์ เพชรเกษม63 ใกล้เดอะมอลล์บาง...  \n",
       "3   5,500,000  มือสอง  ขายบ้านเดี่ยว 100 ตรว หมู่บ้านมณฑลทิพย์ พุทธมณ...  \n",
       "4   4,200,000  มือสอง  บ้านเดี่ยว คณาสิริ ศาลายา ราคาเพียง 4.2 บิ้วอิ...  \n",
       "5   3,200,000  มือสอง  มองหาบ้านสำหรับครอบครัวขนาดใหญ่อยู่รึป่าว ? นี...  \n",
       "6   4,950,000  มือสอง  ขายบ้านเดี่ยวลำลูกกา คลอง4  ขนาด 84 ตรว มี 3  ...  \n",
       "7  10,500,000  มือสอง  ขายด่วน! บ้านเดี่ยว  2 ชั้น โครงการ ดีพร้อม วิ...  \n",
       "8   3,999,000  มือสอง                                บ้านเดี่ยว บางละมุง  \n",
       "9   5,300,000  มือสอง  ขาย บ้านคันทรีโฮม 3 ศรีราชา - หนองยายบู่ 99.6 ...  "
      ]
     },
     "execution_count": 3,
     "metadata": {},
     "output_type": "execute_result"
    }
   ],
   "source": [
    "df.head(10)"
   ]
  },
  {
   "cell_type": "code",
   "execution_count": 4,
   "metadata": {},
   "outputs": [],
   "source": [
    "# convert prices to float\n",
    "df['prices'] = df['prices'].str.replace(',','').astype(int)"
   ]
  },
  {
   "cell_type": "code",
   "execution_count": 5,
   "metadata": {},
   "outputs": [
    {
     "data": {
      "text/plain": [
       "249000000"
      ]
     },
     "execution_count": 5,
     "metadata": {},
     "output_type": "execute_result"
    }
   ],
   "source": [
    "df['prices'].max()"
   ]
  },
  {
   "cell_type": "code",
   "execution_count": 6,
   "metadata": {},
   "outputs": [
    {
     "data": {
      "image/png": "[encoded data removed]",
      "text/plain": [
       "<Figure size 864x576 with 1 Axes>"
      ]
     },
     "metadata": {
      "needs_background": "light"
     },
     "output_type": "display_data"
    }
   ],
   "source": [
    "# histogram of prices\n",
    "fig, ax = plt.subplots(figsize=(12,8))\n",
    "sns.distplot(df['prices'], ax=ax, bins=1000)\n",
    "ax.set_xlim(3600,249000001)\n",
    "plt.show()"
   ]
  },
  {
   "cell_type": "code",
   "execution_count": 7,
   "metadata": {},
   "outputs": [],
   "source": [
    "# change the font to Thai\n",
    "import matplotlib\n",
    "import matplotlib.font_manager as fm\n",
    "\n",
    "matplotlib.font_manager.fontManager.addfont('THSarabunNew.ttf')\n",
    "\n",
    "matplotlib.rc('font', family = 'TH Sarabun New')\n",
    "matplotlib.rcParams.update({'font.size': 20})"
   ]
  },
  {
   "cell_type": "code",
   "execution_count": 8,
   "metadata": {},
   "outputs": [
    {
     "data": {
      "text/plain": [
       "<matplotlib.axes._subplots.AxesSubplot at 0x1a4d9731c10>"
      ]
     },
     "execution_count": 8,
     "metadata": {},
     "output_type": "execute_result"
    },
    {
     "data": {
      "image/png": "[encoded data removed]",
      "text/plain": [
       "<Figure size 864x576 with 1 Axes>"
      ]
     },
     "metadata": {
      "needs_background": "light"
     },
     "output_type": "display_data"
    }
   ],
   "source": [
    "# countplot of status\n",
    "plt.figure(figsize=(12,8))\n",
    "sns.countplot(x='status',data=df)"
   ]
  },
  {
   "cell_type": "code",
   "execution_count": 9,
   "metadata": {},
   "outputs": [
    {
     "data": {
      "image/png": "[encoded data removed]",
      "text/plain": [
       "<Figure size 864x576 with 2 Axes>"
      ]
     },
     "metadata": {
      "needs_background": "light"
     },
     "output_type": "display_data"
    }
   ],
   "source": [
    "#heatmap of the corrolation of evething\n",
    "plt.figure(figsize=(12,8))\n",
    "sns.heatmap(df.corr(),annot=True,cmap='viridis')\n",
    "plt.savefig('heat_plot.png')"
   ]
  },
  {
   "cell_type": "code",
   "execution_count": 10,
   "metadata": {},
   "outputs": [],
   "source": [
    "#convert listing_dates to date time\n",
    "df['listing_date'] = pd.to_datetime(df['listing_date'])"
   ]
  },
  {
   "cell_type": "code",
   "execution_count": 11,
   "metadata": {},
   "outputs": [
    {
     "data": {
      "text/plain": [
       "<matplotlib.axes._subplots.AxesSubplot at 0x1a4d8d8efd0>"
      ]
     },
     "execution_count": 11,
     "metadata": {},
     "output_type": "execute_result"
    },
    {
     "data": {
      "image/png": "[encoded data removed]",
      "text/plain": [
       "<Figure size 864x576 with 1 Axes>"
      ]
     },
     "metadata": {
      "needs_background": "light"
     },
     "output_type": "display_data"
    }
   ],
   "source": [
    "#scatterplot between listing dates and prices\n",
    "plt.figure(figsize=(12,8))\n",
    "sns.scatterplot(x='prices',y='listing_date',data=df,)"
   ]
  },
  {
   "cell_type": "code",
   "execution_count": 12,
   "metadata": {},
   "outputs": [
    {
     "data": {
      "image/png": "[encoded data removed]",
      "text/plain": [
       "<Figure size 864x576 with 1 Axes>"
      ]
     },
     "metadata": {
      "needs_background": "light"
     },
     "output_type": "display_data"
    }
   ],
   "source": [
    "#scatterplot between area and prices\n",
    "plt.figure(figsize=(12,8))\n",
    "sns.scatterplot(x='prices',y='areas',data=df,)\n",
    "plt.savefig('sactter_plot.png')"
   ]
  },
  {
   "cell_type": "code",
   "execution_count": 13,
   "metadata": {},
   "outputs": [
    {
     "data": {
      "text/plain": [
       "<matplotlib.axes._subplots.AxesSubplot at 0x1a4da183fa0>"
      ]
     },
     "execution_count": 13,
     "metadata": {},
     "output_type": "execute_result"
    },
    {
     "data": {
      "image/png": "[encoded data removed]",
      "text/plain": [
       "<Figure size 864x576 with 1 Axes>"
      ]
     },
     "metadata": {
      "needs_background": "light"
     },
     "output_type": "display_data"
    }
   ],
   "source": [
    "#boxplot between prices and bed\n",
    "plt.figure(figsize=(12,8))\n",
    "sns.boxplot(x='beds',y='prices',data=df)"
   ]
  },
  {
   "cell_type": "code",
   "execution_count": 14,
   "metadata": {},
   "outputs": [
    {
     "data": {
      "text/plain": [
       "<matplotlib.axes._subplots.AxesSubplot at 0x1a4da7f7ca0>"
      ]
     },
     "execution_count": 14,
     "metadata": {},
     "output_type": "execute_result"
    },
    {
     "data": {
      "image/png": "[encoded data removed]",
      "text/plain": [
       "<Figure size 864x576 with 1 Axes>"
      ]
     },
     "metadata": {
      "needs_background": "light"
     },
     "output_type": "display_data"
    }
   ],
   "source": [
    "#boxplot between prices and bed\n",
    "plt.figure(figsize=(12,8))\n",
    "sns.boxplot(x='baths',y='prices',data=df)"
   ]
  },
  {
   "cell_type": "code",
   "execution_count": 15,
   "metadata": {},
   "outputs": [
    {
     "data": {
      "text/plain": [
       "2    2347\n",
       "1      38\n",
       "3      15\n",
       "Name: address, dtype: int64"
      ]
     },
     "execution_count": 15,
     "metadata": {},
     "output_type": "execute_result"
    }
   ],
   "source": [
    "# See how many address don't have 2 commas\n",
    "commas = df['address'].apply(lambda x: x.count(','))\n",
    "commas.value_counts()"
   ]
  },
  {
   "cell_type": "code",
   "execution_count": 16,
   "metadata": {},
   "outputs": [],
   "source": [
    "#find columns with irregular format (they have more than or less than 2 commas)\n",
    "def find_commas(address):\n",
    "    if address.count(',') != 2:\n",
    "        return address"
   ]
  },
  {
   "cell_type": "code",
   "execution_count": 17,
   "metadata": {},
   "outputs": [],
   "source": [
    "result = df['address'].apply(lambda x: find_commas(x))"
   ]
  },
  {
   "cell_type": "code",
   "execution_count": 18,
   "metadata": {},
   "outputs": [],
   "source": [
    "# display 100 words per column\n",
    "pd.options.display.max_colwidth = 100"
   ]
  },
  {
   "cell_type": "code",
   "execution_count": 19,
   "metadata": {},
   "outputs": [
    {
     "data": {
      "text/plain": [
       "38                                               พัทยา พอร์ช, มาบไผ่, บ้านบึง, ชลบุรี\n",
       "60      เดอะ เพรสซิเดนท์ สุขุมวิท-สมุทรปราการ, บางด้วน, เมืองสมุทรปราการ, สมุทรปราการ\n",
       "63      เดอะ เพรสซิเดนท์ สุขุมวิท-สมุทรปราการ, บางด้วน, เมืองสมุทรปราการ, สมุทรปราการ\n",
       "129                              โหมด สุขุมวิท 61, คลองเตยเหนือ, วัฒนา, กรุงเทพมหานคร\n",
       "175                         บ้าน เอื้ออาทร บึงกุ่ม, คันนายาว, คันนายาว, กรุงเทพมหานคร\n",
       "513                                บ้าน สวน บางเขน, อนุสาวรีย์, บางเขน, กรุงเทพมหานคร\n",
       "522                                                                 เมืองลำพูน, ลำพูน\n",
       "524                                                                 ปากเกร็ด, นนทบุรี\n",
       "527                                                         เมืองเชียงใหม่, เชียงใหม่\n",
       "529                                                                  ไทรน้อย, นนทบุรี\n",
       "533                                                           ลาดพร้าว, กรุงเทพมหานคร\n",
       "537                                                     เมืองสมุทรปราการ, สมุทรปราการ\n",
       "538                                                          คลองสามวา, กรุงเทพมหานคร\n",
       "545                                                               บางพลี, สมุทรปราการ\n",
       "548                                                          คลองสามวา, กรุงเทพมหานคร\n",
       "550                                                                  บางใหญ่, นนทบุรี\n",
       "551                                                                   ห้างฉัตร, ลำปาง\n",
       "552                                                                 ลำลูกกา, ปทุมธานี\n",
       "553                                                              วัฒนา, กรุงเทพมหานคร\n",
       "555                                                               เมืองชลบุรี, ชลบุรี\n",
       "556                                                         วังทองหลาง, กรุงเทพมหานคร\n",
       "559                                                                  แก่งคอย, สระบุรี\n",
       "563                                                             เมืองนนทบุรี, นนทบุรี\n",
       "564                                                         ปราณบุรี, ประจวบคีรีขันธ์\n",
       "568                                                               ปากช่อง, นครราชสีมา\n",
       "569     เดอะ เพรสซิเดนท์ สุขุมวิท-สมุทรปราการ, บางด้วน, เมืองสมุทรปราการ, สมุทรปราการ\n",
       "573                                                            คลองเตย, กรุงเทพมหานคร\n",
       "582                                                                 ปากเกร็ด, นนทบุรี\n",
       "587                                                             สายไหม, กรุงเทพมหานคร\n",
       "588                                                               บางพลี, สมุทรปราการ\n",
       "589                                                       พระสมุทรเจดีย์, สมุทรปราการ\n",
       "593                                                           วารินชำราบ, อุบลราชธานี\n",
       "594                                                               สันกำแพง, เชียงใหม่\n",
       "596                                                         เมืองเชียงใหม่, เชียงใหม่\n",
       "605                                                           เมืองเชียงราย, เชียงราย\n",
       "607                                                     เมืองสมุทรปราการ, สมุทรปราการ\n",
       "612                                                             ประเวศ, กรุงเทพมหานคร\n",
       "613                                                             ประเวศ, กรุงเทพมหานคร\n",
       "620                                                         เมืองเชียงใหม่, เชียงใหม่\n",
       "659                                                                หนองเสือ, ปทุมธานี\n",
       "1167                                                            เมืองสุโขทัย, สุโขทัย\n",
       "1170                                                              บางพลี, สมุทรปราการ\n",
       "1248                                   วัฒนา สวีท, คลองตันเหนือ, วัฒนา, กรุงเทพมหานคร\n",
       "1336             ลุมพินี เพลส บรมราชชนนี-ปิ่นเกล้า, ตลิ่งชัน, ตลิ่งชัน, กรุงเทพมหานคร\n",
       "1404                          เดอะ เครสท์ พหลโยธิน 11, สามเสนใน, พญาไท, กรุงเทพมหานคร\n",
       "1493                                   พหลโยธิน ปาร์ค, สามเสนใน, พญาไท, กรุงเทพมหานคร\n",
       "1505                                                                เมืองสงขลา, สงขลา\n",
       "1508                                                            เมืองนนทบุรี, นนทบุรี\n",
       "1745                                   พัทยา เดล เรย์, ตะเคียนเตี้ย, บางละมุง, ชลบุรี\n",
       "1758             ลุมพินี เพลส บรมราชชนนี-ปิ่นเกล้า, ตลิ่งชัน, ตลิ่งชัน, กรุงเทพมหานคร\n",
       "2096                                                                     ถลาง, ภูเก็ต\n",
       "2126                                   พัทยา เดล เรย์, ตะเคียนเตี้ย, บางละมุง, ชลบุรี\n",
       "2228                             ราชพฤกษ์ คอนโด, คูหาสวรรค์, ภาษีเจริญ, กรุงเทพมหานคร\n",
       "Name: address, dtype: object"
      ]
     },
     "execution_count": 19,
     "metadata": {},
     "output_type": "execute_result"
    }
   ],
   "source": [
    "# the ones with 3 commas have condo names, subdist, dist, prov. The ones with 1 comma have dist and prov\n",
    "result.dropna()"
   ]
  },
  {
   "cell_type": "code",
   "execution_count": 20,
   "metadata": {},
   "outputs": [],
   "source": [
    "test = 'เดอะ เพรสซิเดนท์ สุขุมวิท-สมุทรปราการ, บางด้วน, เมืองสมุทรปราการ, สมุทรปราการ'"
   ]
  },
  {
   "cell_type": "code",
   "execution_count": 21,
   "metadata": {},
   "outputs": [],
   "source": [
    "result = test.split(',')"
   ]
  },
  {
   "cell_type": "code",
   "execution_count": 22,
   "metadata": {},
   "outputs": [],
   "source": [
    "result = result[1:]"
   ]
  },
  {
   "cell_type": "code",
   "execution_count": 23,
   "metadata": {},
   "outputs": [
    {
     "name": "stdout",
     "output_type": "stream",
     "text": [
      " บางด้วน, เมืองสมุทรปราการ, สมุทรปราการ\n"
     ]
    }
   ],
   "source": [
    "x = \",\".join(result)\n",
    "\n",
    "print(x)"
   ]
  },
  {
   "cell_type": "code",
   "execution_count": 24,
   "metadata": {},
   "outputs": [
    {
     "data": {
      "text/plain": [
       "2    2347\n",
       "1      38\n",
       "3      15\n",
       "Name: address, dtype: int64"
      ]
     },
     "execution_count": 24,
     "metadata": {},
     "output_type": "execute_result"
    }
   ],
   "source": [
    "commas = df['address'].apply(lambda x: x.count(','))\n",
    "commas.value_counts()"
   ]
  },
  {
   "cell_type": "code",
   "execution_count": 25,
   "metadata": {},
   "outputs": [],
   "source": [
    "# fill in missing subdistrict with '' (return 2, add space to 1, remove condo name for 3)\n",
    "def fix_address(address):\n",
    "    if address.count(\",\") == 2:\n",
    "        return address\n",
    "    elif address.count(\",\") == 1:\n",
    "        result = ' , '+address\n",
    "        return result\n",
    "    else:\n",
    "        remove_comma = address.split(',')\n",
    "        remove_comma = remove_comma[1:]\n",
    "        remove_comma = ','.join(remove_comma)\n",
    "        return remove_comma"
   ]
  },
  {
   "cell_type": "code",
   "execution_count": 26,
   "metadata": {},
   "outputs": [],
   "source": [
    "# apply the def\n",
    "df['address'] = df['address'].apply(lambda x: fix_address(x))"
   ]
  },
  {
   "cell_type": "code",
   "execution_count": 27,
   "metadata": {},
   "outputs": [
    {
     "data": {
      "text/plain": [
       "2    2400\n",
       "Name: address, dtype: int64"
      ]
     },
     "execution_count": 27,
     "metadata": {},
     "output_type": "execute_result"
    }
   ],
   "source": [
    "commas = df['address'].apply(lambda x: x.count(','))\n",
    "commas.value_counts()"
   ]
  },
  {
   "cell_type": "code",
   "execution_count": 28,
   "metadata": {},
   "outputs": [],
   "source": [
    "# seperate address into subdistricts, districts, and province\n",
    "address_split = df['address'].apply(lambda x:x.split(','))\n",
    "sub = []\n",
    "dis = []\n",
    "prov = []\n",
    "for a_l in address_split:\n",
    "    if a_l.count(',') > 2:\n",
    "        sub.append(a_l[:2])\n",
    "        dis.append(a_l[2])\n",
    "        prov.append(a_l[3])\n",
    "    else:\n",
    "        sub.append(a_l[0])\n",
    "        dis.append(a_l[1])\n",
    "        prov.append(a_l[2])\n",
    "df['sub'] = sub\n",
    "df['dis'] = dis\n",
    "df['prov'] = prov"
   ]
  },
  {
   "cell_type": "code",
   "execution_count": 29,
   "metadata": {},
   "outputs": [
    {
     "data": {
      "text/html": [
       "<div>\n",
       "<style scoped>\n",
       "    .dataframe tbody tr th:only-of-type {\n",
       "        vertical-align: middle;\n",
       "    }\n",
       "\n",
       "    .dataframe tbody tr th {\n",
       "        vertical-align: top;\n",
       "    }\n",
       "\n",
       "    .dataframe thead th {\n",
       "        text-align: right;\n",
       "    }\n",
       "</style>\n",
       "<table border=\"1\" class=\"dataframe\">\n",
       "  <thead>\n",
       "    <tr style=\"text-align: right;\">\n",
       "      <th></th>\n",
       "      <th>address</th>\n",
       "      <th>areas</th>\n",
       "      <th>beds</th>\n",
       "      <th>baths</th>\n",
       "      <th>descriptions</th>\n",
       "      <th>listing_date</th>\n",
       "      <th>prices</th>\n",
       "      <th>status</th>\n",
       "      <th>titles</th>\n",
       "      <th>sub</th>\n",
       "      <th>dis</th>\n",
       "      <th>prov</th>\n",
       "    </tr>\n",
       "  </thead>\n",
       "  <tbody>\n",
       "    <tr>\n",
       "      <th>0</th>\n",
       "      <td>หางดง, หางดง, เชียงใหม่</td>\n",
       "      <td>50.0</td>\n",
       "      <td>3.0</td>\n",
       "      <td>3.0</td>\n",
       "      <td>รหัส  :  SH0222  🍭บ้าน สวย หลังใหญ่ ใกล้เมือง คุ้ม ใกล้สนามบิน,ร. ร. นานาชาติ 🔖เพียง 2.49 ลบ. 🎉บ...</td>\n",
       "      <td>2021-10-19</td>\n",
       "      <td>2490000</td>\n",
       "      <td>ใหม่</td>\n",
       "      <td>บ้านเดี่ยว 2 ชั้น พท. ที่ใช้สอย 135 ตร. ม.  ใกล้เมือง อยู่ด้านหลังท่าพระจันทร์ ใกล้โรงเรียนนานาช...</td>\n",
       "      <td>หางดง</td>\n",
       "      <td>หางดง</td>\n",
       "      <td>เชียงใหม่</td>\n",
       "    </tr>\n",
       "    <tr>\n",
       "      <th>1</th>\n",
       "      <td>ลาดพร้าว, ลาดพร้าว, กรุงเทพมหานคร</td>\n",
       "      <td>82.0</td>\n",
       "      <td>3.0</td>\n",
       "      <td>4.0</td>\n",
       "      <td>ขายเดี่ยว 2 ชั้นไพรเวท เนอวานา เรสสิเดนซ์ หลัง CDC เลียบด่วนรามอินทรา ซอยโยธินพัฒนา 11 ราคา 23.9...</td>\n",
       "      <td>2021-10-18</td>\n",
       "      <td>23900000</td>\n",
       "      <td>มือสอง</td>\n",
       "      <td>ขายเดี่ยว 2 ชั้นไพรเวท เนอวานา เรสสิเดนซ์ หลัง CDC เลียบด่วนรามอินทรา ซอยโยธินพัฒนา 11</td>\n",
       "      <td>ลาดพร้าว</td>\n",
       "      <td>ลาดพร้าว</td>\n",
       "      <td>กรุงเทพมหานคร</td>\n",
       "    </tr>\n",
       "    <tr>\n",
       "      <th>2</th>\n",
       "      <td>หลักสอง, บางแค, กรุงเทพมหานคร</td>\n",
       "      <td>40.0</td>\n",
       "      <td>3.0</td>\n",
       "      <td>2.0</td>\n",
       "      <td>**ฟังก์ชันบ้าน**ห้องนอน : 3 ห้องห้องน้ำ : 2 ห้องจำนวนชั้น : 2 ชั้นที่จอดรถ : 1 คันเนื้อที่ 40 ตา...</td>\n",
       "      <td>2021-10-18</td>\n",
       "      <td>3990000</td>\n",
       "      <td>มือสอง</td>\n",
       "      <td>บ้านแฝด ม. ปารวีร์ เพชรเกษม63 ใกล้เดอะมอลล์บางแค และ รถไฟฟ้าสายสีน้ำเงิน สถานีหลักสอง</td>\n",
       "      <td>หลักสอง</td>\n",
       "      <td>บางแค</td>\n",
       "      <td>กรุงเทพมหานคร</td>\n",
       "    </tr>\n",
       "    <tr>\n",
       "      <th>3</th>\n",
       "      <td>กระทุ่มล้ม, สามพราน, นครปฐม</td>\n",
       "      <td>100.0</td>\n",
       "      <td>4.0</td>\n",
       "      <td>3.0</td>\n",
       "      <td>ขายบ้านเดี่ยว 2ชั้น หมู่บ้าน  มณฑลทิพย์ ต. กระทุ่มล้ม อ. สามพราน นครปฐม 🏮🔨บ้านทาสีปรับปรุงพร้อมอ...</td>\n",
       "      <td>2021-10-18</td>\n",
       "      <td>5500000</td>\n",
       "      <td>มือสอง</td>\n",
       "      <td>ขายบ้านเดี่ยว 100 ตรว หมู่บ้านมณฑลทิพย์ พุทธมณฑลสาย 4</td>\n",
       "      <td>กระทุ่มล้ม</td>\n",
       "      <td>สามพราน</td>\n",
       "      <td>นครปฐม</td>\n",
       "    </tr>\n",
       "    <tr>\n",
       "      <th>4</th>\n",
       "      <td>ศาลายา, พุทธมณฑล, นครปฐม</td>\n",
       "      <td>50.0</td>\n",
       "      <td>3.0</td>\n",
       "      <td>2.0</td>\n",
       "      <td>ขายบ้านเดี่ยว หมู่บ้านคณาสิริ ศาลายา ราคาเพียง 4.2ลบพื้นที่ 50 ตร. วา พื้นที่ใช้สอย 113 ตารางเมต...</td>\n",
       "      <td>2021-10-18</td>\n",
       "      <td>4200000</td>\n",
       "      <td>มือสอง</td>\n",
       "      <td>บ้านเดี่ยว คณาสิริ ศาลายา ราคาเพียง 4.2 บิ้วอินสวย บ้านใหม่</td>\n",
       "      <td>ศาลายา</td>\n",
       "      <td>พุทธมณฑล</td>\n",
       "      <td>นครปฐม</td>\n",
       "    </tr>\n",
       "    <tr>\n",
       "      <th>5</th>\n",
       "      <td>สันทราย, เมืองเชียงราย, เชียงราย</td>\n",
       "      <td>73.0</td>\n",
       "      <td>4.0</td>\n",
       "      <td>4.0</td>\n",
       "      <td>หมู่บ้านศิริพรการ์เด้นโฮม 9 ตั้งอยู่ที่ สันนาเม็ง สันทราย บ้านเดี่ยวขนาดใหญ่ สองชั้น พื้นที่กว้า...</td>\n",
       "      <td>2021-10-18</td>\n",
       "      <td>3200000</td>\n",
       "      <td>มือสอง</td>\n",
       "      <td>มองหาบ้านสำหรับครอบครัวขนาดใหญ่อยู่รึป่าว ? นี่เลยที่ หมู่บ้านศิริพรการ์เด้นโฮม 9</td>\n",
       "      <td>สันทราย</td>\n",
       "      <td>เมืองเชียงราย</td>\n",
       "      <td>เชียงราย</td>\n",
       "    </tr>\n",
       "    <tr>\n",
       "      <th>6</th>\n",
       "      <td>ลาดสวาย, ลำลูกกา, ปทุมธานี</td>\n",
       "      <td>84.0</td>\n",
       "      <td>3.0</td>\n",
       "      <td>2.0</td>\n",
       "      <td>ขายบ้านเดี่ยวลำลูกกา คลอง4 ขนาด 84 ตรว  ขายบ้านเดี่ยวลำลูกกา คลอง4  ขนาด 84 ตรว มี 3  ห้องนอน 2 ...</td>\n",
       "      <td>2021-10-17</td>\n",
       "      <td>4950000</td>\n",
       "      <td>มือสอง</td>\n",
       "      <td>ขายบ้านเดี่ยวลำลูกกา คลอง4  ขนาด 84 ตรว มี 3  ห้องนอน 2 ห้องน้ำ  พร้อมเข้าอยู่ ตกแต่งเรียบร้อยแล้ว</td>\n",
       "      <td>ลาดสวาย</td>\n",
       "      <td>ลำลูกกา</td>\n",
       "      <td>ปทุมธานี</td>\n",
       "    </tr>\n",
       "    <tr>\n",
       "      <th>7</th>\n",
       "      <td>วัดไทรย์, เมืองนครสวรรค์, นครสวรรค์</td>\n",
       "      <td>NaN</td>\n",
       "      <td>4.0</td>\n",
       "      <td>4.0</td>\n",
       "      <td>#579796บ้านเดี่ยว  2 ชั้น อยู่ในโครงการ ดีพร้อม วิลล์ ตกแต่ง บิวอินท์ ทั้งหลัง พร้อมอยู่ มีคลับเ...</td>\n",
       "      <td>2021-10-19</td>\n",
       "      <td>10500000</td>\n",
       "      <td>มือสอง</td>\n",
       "      <td>ขายด่วน! บ้านเดี่ยว  2 ชั้น โครงการ ดีพร้อม วิลล์ เนื้อที่ 103.5 ตร. ว. ตำบลวัดไทร อำเภอแเมือง น...</td>\n",
       "      <td>วัดไทรย์</td>\n",
       "      <td>เมืองนครสวรรค์</td>\n",
       "      <td>นครสวรรค์</td>\n",
       "    </tr>\n",
       "    <tr>\n",
       "      <th>8</th>\n",
       "      <td>บางละมุง, บางละมุง, ชลบุรี</td>\n",
       "      <td>73.0</td>\n",
       "      <td>3.0</td>\n",
       "      <td>3.0</td>\n",
       "      <td>ขายบ้านเดี่ยวหลังริมบางละมุง พัทยา⭐️ขาย 3.99 ล้านบาท เช่า 15,000 บาทต่อเดือนโทร ดูข้อมูลการติดต่...</td>\n",
       "      <td>2021-10-17</td>\n",
       "      <td>3999000</td>\n",
       "      <td>มือสอง</td>\n",
       "      <td>บ้านเดี่ยว บางละมุง</td>\n",
       "      <td>บางละมุง</td>\n",
       "      <td>บางละมุง</td>\n",
       "      <td>ชลบุรี</td>\n",
       "    </tr>\n",
       "    <tr>\n",
       "      <th>9</th>\n",
       "      <td>ศรีราชา, ศรีราชา, ชลบุรี</td>\n",
       "      <td>NaN</td>\n",
       "      <td>3.0</td>\n",
       "      <td>3.0</td>\n",
       "      <td>ขาย บ้านคันทรีโฮม 3 ศรีราชา - หนองยายบู่ 99.6 ตร. ว. ใกล้ J-Park บ้านเดี่ยวหลังใหญ่ ถูกที่สุดในโ...</td>\n",
       "      <td>2021-10-16</td>\n",
       "      <td>5300000</td>\n",
       "      <td>มือสอง</td>\n",
       "      <td>ขาย บ้านคันทรีโฮม 3 ศรีราชา - หนองยายบู่ 99.6 ตร. ว. ใกล้ J-Park</td>\n",
       "      <td>ศรีราชา</td>\n",
       "      <td>ศรีราชา</td>\n",
       "      <td>ชลบุรี</td>\n",
       "    </tr>\n",
       "  </tbody>\n",
       "</table>\n",
       "</div>"
      ],
      "text/plain": [
       "                               address  areas  beds  baths  \\\n",
       "0              หางดง, หางดง, เชียงใหม่   50.0   3.0    3.0   \n",
       "1    ลาดพร้าว, ลาดพร้าว, กรุงเทพมหานคร   82.0   3.0    4.0   \n",
       "2        หลักสอง, บางแค, กรุงเทพมหานคร   40.0   3.0    2.0   \n",
       "3          กระทุ่มล้ม, สามพราน, นครปฐม  100.0   4.0    3.0   \n",
       "4             ศาลายา, พุทธมณฑล, นครปฐม   50.0   3.0    2.0   \n",
       "5     สันทราย, เมืองเชียงราย, เชียงราย   73.0   4.0    4.0   \n",
       "6           ลาดสวาย, ลำลูกกา, ปทุมธานี   84.0   3.0    2.0   \n",
       "7  วัดไทรย์, เมืองนครสวรรค์, นครสวรรค์    NaN   4.0    4.0   \n",
       "8           บางละมุง, บางละมุง, ชลบุรี   73.0   3.0    3.0   \n",
       "9             ศรีราชา, ศรีราชา, ชลบุรี    NaN   3.0    3.0   \n",
       "\n",
       "                                                                                          descriptions  \\\n",
       "0  รหัส  :  SH0222  🍭บ้าน สวย หลังใหญ่ ใกล้เมือง คุ้ม ใกล้สนามบิน,ร. ร. นานาชาติ 🔖เพียง 2.49 ลบ. 🎉บ...   \n",
       "1  ขายเดี่ยว 2 ชั้นไพรเวท เนอวานา เรสสิเดนซ์ หลัง CDC เลียบด่วนรามอินทรา ซอยโยธินพัฒนา 11 ราคา 23.9...   \n",
       "2  **ฟังก์ชันบ้าน**ห้องนอน : 3 ห้องห้องน้ำ : 2 ห้องจำนวนชั้น : 2 ชั้นที่จอดรถ : 1 คันเนื้อที่ 40 ตา...   \n",
       "3  ขายบ้านเดี่ยว 2ชั้น หมู่บ้าน  มณฑลทิพย์ ต. กระทุ่มล้ม อ. สามพราน นครปฐม 🏮🔨บ้านทาสีปรับปรุงพร้อมอ...   \n",
       "4  ขายบ้านเดี่ยว หมู่บ้านคณาสิริ ศาลายา ราคาเพียง 4.2ลบพื้นที่ 50 ตร. วา พื้นที่ใช้สอย 113 ตารางเมต...   \n",
       "5  หมู่บ้านศิริพรการ์เด้นโฮม 9 ตั้งอยู่ที่ สันนาเม็ง สันทราย บ้านเดี่ยวขนาดใหญ่ สองชั้น พื้นที่กว้า...   \n",
       "6  ขายบ้านเดี่ยวลำลูกกา คลอง4 ขนาด 84 ตรว  ขายบ้านเดี่ยวลำลูกกา คลอง4  ขนาด 84 ตรว มี 3  ห้องนอน 2 ...   \n",
       "7  #579796บ้านเดี่ยว  2 ชั้น อยู่ในโครงการ ดีพร้อม วิลล์ ตกแต่ง บิวอินท์ ทั้งหลัง พร้อมอยู่ มีคลับเ...   \n",
       "8  ขายบ้านเดี่ยวหลังริมบางละมุง พัทยา⭐️ขาย 3.99 ล้านบาท เช่า 15,000 บาทต่อเดือนโทร ดูข้อมูลการติดต่...   \n",
       "9  ขาย บ้านคันทรีโฮม 3 ศรีราชา - หนองยายบู่ 99.6 ตร. ว. ใกล้ J-Park บ้านเดี่ยวหลังใหญ่ ถูกที่สุดในโ...   \n",
       "\n",
       "  listing_date    prices  status  \\\n",
       "0   2021-10-19   2490000    ใหม่   \n",
       "1   2021-10-18  23900000  มือสอง   \n",
       "2   2021-10-18   3990000  มือสอง   \n",
       "3   2021-10-18   5500000  มือสอง   \n",
       "4   2021-10-18   4200000  มือสอง   \n",
       "5   2021-10-18   3200000  มือสอง   \n",
       "6   2021-10-17   4950000  มือสอง   \n",
       "7   2021-10-19  10500000  มือสอง   \n",
       "8   2021-10-17   3999000  มือสอง   \n",
       "9   2021-10-16   5300000  มือสอง   \n",
       "\n",
       "                                                                                                titles  \\\n",
       "0  บ้านเดี่ยว 2 ชั้น พท. ที่ใช้สอย 135 ตร. ม.  ใกล้เมือง อยู่ด้านหลังท่าพระจันทร์ ใกล้โรงเรียนนานาช...   \n",
       "1               ขายเดี่ยว 2 ชั้นไพรเวท เนอวานา เรสสิเดนซ์ หลัง CDC เลียบด่วนรามอินทรา ซอยโยธินพัฒนา 11   \n",
       "2                บ้านแฝด ม. ปารวีร์ เพชรเกษม63 ใกล้เดอะมอลล์บางแค และ รถไฟฟ้าสายสีน้ำเงิน สถานีหลักสอง   \n",
       "3                                                ขายบ้านเดี่ยว 100 ตรว หมู่บ้านมณฑลทิพย์ พุทธมณฑลสาย 4   \n",
       "4                                          บ้านเดี่ยว คณาสิริ ศาลายา ราคาเพียง 4.2 บิ้วอินสวย บ้านใหม่   \n",
       "5                    มองหาบ้านสำหรับครอบครัวขนาดใหญ่อยู่รึป่าว ? นี่เลยที่ หมู่บ้านศิริพรการ์เด้นโฮม 9   \n",
       "6   ขายบ้านเดี่ยวลำลูกกา คลอง4  ขนาด 84 ตรว มี 3  ห้องนอน 2 ห้องน้ำ  พร้อมเข้าอยู่ ตกแต่งเรียบร้อยแล้ว   \n",
       "7  ขายด่วน! บ้านเดี่ยว  2 ชั้น โครงการ ดีพร้อม วิลล์ เนื้อที่ 103.5 ตร. ว. ตำบลวัดไทร อำเภอแเมือง น...   \n",
       "8                                                                                  บ้านเดี่ยว บางละมุง   \n",
       "9                                     ขาย บ้านคันทรีโฮม 3 ศรีราชา - หนองยายบู่ 99.6 ตร. ว. ใกล้ J-Park   \n",
       "\n",
       "          sub              dis            prov  \n",
       "0       หางดง            หางดง       เชียงใหม่  \n",
       "1    ลาดพร้าว         ลาดพร้าว   กรุงเทพมหานคร  \n",
       "2     หลักสอง            บางแค   กรุงเทพมหานคร  \n",
       "3  กระทุ่มล้ม          สามพราน          นครปฐม  \n",
       "4      ศาลายา         พุทธมณฑล          นครปฐม  \n",
       "5     สันทราย    เมืองเชียงราย        เชียงราย  \n",
       "6     ลาดสวาย          ลำลูกกา        ปทุมธานี  \n",
       "7    วัดไทรย์   เมืองนครสวรรค์       นครสวรรค์  \n",
       "8    บางละมุง         บางละมุง          ชลบุรี  \n",
       "9     ศรีราชา          ศรีราชา          ชลบุรี  "
      ]
     },
     "execution_count": 29,
     "metadata": {},
     "output_type": "execute_result"
    }
   ],
   "source": [
    "df.head(10)"
   ]
  },
  {
   "cell_type": "code",
   "execution_count": 30,
   "metadata": {},
   "outputs": [
    {
     "data": {
      "text/plain": [
       " กรุงเทพมหานคร      778\n",
       " สมุทรปราการ        248\n",
       " นนทบุรี            234\n",
       " ชลบุรี             230\n",
       " เชียงใหม่          200\n",
       " ปทุมธานี           177\n",
       " สระแก้ว            113\n",
       " ภูเก็ต              85\n",
       " ระยอง               37\n",
       " สมุทรสาคร           26\n",
       " พระนครศรีอยุธยา     24\n",
       " นครปฐม              24\n",
       " ฉะเชิงเทรา          21\n",
       " นครศรีธรรมราช       19\n",
       " ประจวบคีรีขันธ์     17\n",
       " นครราชสีมา          13\n",
       " เชียงราย            13\n",
       " ราชบุรี             12\n",
       " สุราษฎร์ธานี        12\n",
       " ปราจีนบุรี           9\n",
       " กาญจนบุรี            9\n",
       " จันทบุรี             8\n",
       " เพชรบุรี             8\n",
       " ลำปาง                7\n",
       " สระบุรี              7\n",
       " สมุทรสงคราม          6\n",
       " ลำพูน                5\n",
       " นครนายก              5\n",
       " เพชรบูรณ์            4\n",
       " สงขลา                4\n",
       " อุบลราชธานี          4\n",
       " กระบี่               3\n",
       " สุรินทร์             3\n",
       " สุพรรณบุรี           3\n",
       " พะเยา                3\n",
       " ชัยภูมิ              3\n",
       " ขอนแก่น              3\n",
       " พิษณุโลก             3\n",
       " บึงกาฬ               2\n",
       " ตราด                 2\n",
       " อุตรดิตถ์            2\n",
       " ชุมพร                2\n",
       " น่าน                 2\n",
       " ศรีสะเกษ             2\n",
       " นครสวรรค์            2\n",
       " สุโขทัย              1\n",
       " ลพบุรี               1\n",
       " กาฬสินธุ์            1\n",
       " สิงห์บุรี            1\n",
       " บุรีรัมย์            1\n",
       " ร้อยเอ็ด             1\n",
       "Name: prov, dtype: int64"
      ]
     },
     "execution_count": 30,
     "metadata": {},
     "output_type": "execute_result"
    }
   ],
   "source": [
    "df['prov'].value_counts()"
   ]
  },
  {
   "cell_type": "code",
   "execution_count": 31,
   "metadata": {},
   "outputs": [
    {
     "data": {
      "text/plain": [
       "<matplotlib.axes._subplots.AxesSubplot at 0x1a4daa57a00>"
      ]
     },
     "execution_count": 31,
     "metadata": {},
     "output_type": "execute_result"
    },
    {
     "data": {
      "image/png": "[encoded data removed]",
      "text/plain": [
       "<Figure size 1152x576 with 1 Axes>"
      ]
     },
     "metadata": {
      "needs_background": "light"
     },
     "output_type": "display_data"
    }
   ],
   "source": [
    "# some of these provinces only have 1 data point and are outlier\n",
    "df[['prices','prov']].groupby('prov').mean().sort_values('prices').plot(kind='bar',figsize=(16,8))"
   ]
  },
  {
   "cell_type": "code",
   "execution_count": 32,
   "metadata": {},
   "outputs": [],
   "source": [
    "# remove outliers (one with less than 10 data points) \n",
    "def remove_outlier(prov_count):\n",
    "    if prov_count <10:\n",
    "        return prov"
   ]
  },
  {
   "cell_type": "code",
   "execution_count": 33,
   "metadata": {},
   "outputs": [
    {
     "data": {
      "text/plain": [
       "[' ปราจีนบุรี',\n",
       " ' กาญจนบุรี',\n",
       " ' จันทบุรี',\n",
       " ' เพชรบุรี',\n",
       " ' ลำปาง',\n",
       " ' สระบุรี',\n",
       " ' สมุทรสงคราม',\n",
       " ' ลำพูน',\n",
       " ' นครนายก',\n",
       " ' เพชรบูรณ์',\n",
       " ' สงขลา',\n",
       " ' อุบลราชธานี',\n",
       " ' กระบี่',\n",
       " ' สุรินทร์',\n",
       " ' สุพรรณบุรี',\n",
       " ' พะเยา',\n",
       " ' ชัยภูมิ',\n",
       " ' ขอนแก่น',\n",
       " ' พิษณุโลก',\n",
       " ' บึงกาฬ',\n",
       " ' ตราด',\n",
       " ' อุตรดิตถ์',\n",
       " ' ชุมพร',\n",
       " ' น่าน',\n",
       " ' ศรีสะเกษ',\n",
       " ' นครสวรรค์',\n",
       " ' สุโขทัย',\n",
       " ' ลพบุรี',\n",
       " ' กาฬสินธุ์',\n",
       " ' สิงห์บุรี',\n",
       " ' บุรีรัมย์',\n",
       " ' ร้อยเอ็ด']"
      ]
     },
     "execution_count": 33,
     "metadata": {},
     "output_type": "execute_result"
    }
   ],
   "source": [
    "# remove outliers (one with less than 10 data points)\n",
    "test = df['prov'].value_counts()\n",
    "l_prov = test.apply(lambda x: remove_outlier(x))\n",
    "l_prov = l_prov.dropna()\n",
    "l_prov = l_prov.index\n",
    "l_prov = l_prov.tolist()\n",
    "l_prov"
   ]
  },
  {
   "cell_type": "code",
   "execution_count": 34,
   "metadata": {},
   "outputs": [
    {
     "data": {
      "image/png": "[encoded data removed]",
      "text/plain": [
       "<Figure size 1152x576 with 1 Axes>"
      ]
     },
     "metadata": {
      "needs_background": "light"
     },
     "output_type": "display_data"
    }
   ],
   "source": [
    "# The new graph make more sense\n",
    "df[['prices','prov']].groupby('prov').mean().drop(l_prov).sort_values('prices').plot(kind='bar',figsize=(16,8))\n",
    "plt.savefig('bar_plot.png')"
   ]
  },
  {
   "cell_type": "markdown",
   "metadata": {},
   "source": [
    "# Natural Language Processing"
   ]
  },
  {
   "cell_type": "code",
   "execution_count": 35,
   "metadata": {},
   "outputs": [],
   "source": [
    "# natural language processing part\n",
    "# creating a text len\n",
    "df['title_len'] = df['titles'].apply(len)\n",
    "df['des_len'] = df['descriptions'].apply(len)"
   ]
  },
  {
   "cell_type": "code",
   "execution_count": 36,
   "metadata": {},
   "outputs": [
    {
     "data": {
      "text/html": [
       "<div>\n",
       "<style scoped>\n",
       "    .dataframe tbody tr th:only-of-type {\n",
       "        vertical-align: middle;\n",
       "    }\n",
       "\n",
       "    .dataframe tbody tr th {\n",
       "        vertical-align: top;\n",
       "    }\n",
       "\n",
       "    .dataframe thead th {\n",
       "        text-align: right;\n",
       "    }\n",
       "</style>\n",
       "<table border=\"1\" class=\"dataframe\">\n",
       "  <thead>\n",
       "    <tr style=\"text-align: right;\">\n",
       "      <th></th>\n",
       "      <th>address</th>\n",
       "      <th>areas</th>\n",
       "      <th>beds</th>\n",
       "      <th>baths</th>\n",
       "      <th>descriptions</th>\n",
       "      <th>listing_date</th>\n",
       "      <th>prices</th>\n",
       "      <th>status</th>\n",
       "      <th>titles</th>\n",
       "      <th>sub</th>\n",
       "      <th>dis</th>\n",
       "      <th>prov</th>\n",
       "      <th>title_len</th>\n",
       "      <th>des_len</th>\n",
       "    </tr>\n",
       "  </thead>\n",
       "  <tbody>\n",
       "    <tr>\n",
       "      <th>0</th>\n",
       "      <td>หางดง, หางดง, เชียงใหม่</td>\n",
       "      <td>50.0</td>\n",
       "      <td>3.0</td>\n",
       "      <td>3.0</td>\n",
       "      <td>รหัส  :  SH0222  🍭บ้าน สวย หลังใหญ่ ใกล้เมือง คุ้ม ใกล้สนามบิน,ร. ร. นานาชาติ 🔖เพียง 2.49 ลบ. 🎉บ...</td>\n",
       "      <td>2021-10-19</td>\n",
       "      <td>2490000</td>\n",
       "      <td>ใหม่</td>\n",
       "      <td>บ้านเดี่ยว 2 ชั้น พท. ที่ใช้สอย 135 ตร. ม.  ใกล้เมือง อยู่ด้านหลังท่าพระจันทร์ ใกล้โรงเรียนนานาช...</td>\n",
       "      <td>หางดง</td>\n",
       "      <td>หางดง</td>\n",
       "      <td>เชียงใหม่</td>\n",
       "      <td>197</td>\n",
       "      <td>1788</td>\n",
       "    </tr>\n",
       "    <tr>\n",
       "      <th>1</th>\n",
       "      <td>ลาดพร้าว, ลาดพร้าว, กรุงเทพมหานคร</td>\n",
       "      <td>82.0</td>\n",
       "      <td>3.0</td>\n",
       "      <td>4.0</td>\n",
       "      <td>ขายเดี่ยว 2 ชั้นไพรเวท เนอวานา เรสสิเดนซ์ หลัง CDC เลียบด่วนรามอินทรา ซอยโยธินพัฒนา 11 ราคา 23.9...</td>\n",
       "      <td>2021-10-18</td>\n",
       "      <td>23900000</td>\n",
       "      <td>มือสอง</td>\n",
       "      <td>ขายเดี่ยว 2 ชั้นไพรเวท เนอวานา เรสสิเดนซ์ หลัง CDC เลียบด่วนรามอินทรา ซอยโยธินพัฒนา 11</td>\n",
       "      <td>ลาดพร้าว</td>\n",
       "      <td>ลาดพร้าว</td>\n",
       "      <td>กรุงเทพมหานคร</td>\n",
       "      <td>86</td>\n",
       "      <td>666</td>\n",
       "    </tr>\n",
       "    <tr>\n",
       "      <th>2</th>\n",
       "      <td>หลักสอง, บางแค, กรุงเทพมหานคร</td>\n",
       "      <td>40.0</td>\n",
       "      <td>3.0</td>\n",
       "      <td>2.0</td>\n",
       "      <td>**ฟังก์ชันบ้าน**ห้องนอน : 3 ห้องห้องน้ำ : 2 ห้องจำนวนชั้น : 2 ชั้นที่จอดรถ : 1 คันเนื้อที่ 40 ตา...</td>\n",
       "      <td>2021-10-18</td>\n",
       "      <td>3990000</td>\n",
       "      <td>มือสอง</td>\n",
       "      <td>บ้านแฝด ม. ปารวีร์ เพชรเกษม63 ใกล้เดอะมอลล์บางแค และ รถไฟฟ้าสายสีน้ำเงิน สถานีหลักสอง</td>\n",
       "      <td>หลักสอง</td>\n",
       "      <td>บางแค</td>\n",
       "      <td>กรุงเทพมหานคร</td>\n",
       "      <td>85</td>\n",
       "      <td>1594</td>\n",
       "    </tr>\n",
       "  </tbody>\n",
       "</table>\n",
       "</div>"
      ],
      "text/plain": [
       "                             address  areas  beds  baths  \\\n",
       "0            หางดง, หางดง, เชียงใหม่   50.0   3.0    3.0   \n",
       "1  ลาดพร้าว, ลาดพร้าว, กรุงเทพมหานคร   82.0   3.0    4.0   \n",
       "2      หลักสอง, บางแค, กรุงเทพมหานคร   40.0   3.0    2.0   \n",
       "\n",
       "                                                                                          descriptions  \\\n",
       "0  รหัส  :  SH0222  🍭บ้าน สวย หลังใหญ่ ใกล้เมือง คุ้ม ใกล้สนามบิน,ร. ร. นานาชาติ 🔖เพียง 2.49 ลบ. 🎉บ...   \n",
       "1  ขายเดี่ยว 2 ชั้นไพรเวท เนอวานา เรสสิเดนซ์ หลัง CDC เลียบด่วนรามอินทรา ซอยโยธินพัฒนา 11 ราคา 23.9...   \n",
       "2  **ฟังก์ชันบ้าน**ห้องนอน : 3 ห้องห้องน้ำ : 2 ห้องจำนวนชั้น : 2 ชั้นที่จอดรถ : 1 คันเนื้อที่ 40 ตา...   \n",
       "\n",
       "  listing_date    prices  status  \\\n",
       "0   2021-10-19   2490000    ใหม่   \n",
       "1   2021-10-18  23900000  มือสอง   \n",
       "2   2021-10-18   3990000  มือสอง   \n",
       "\n",
       "                                                                                                titles  \\\n",
       "0  บ้านเดี่ยว 2 ชั้น พท. ที่ใช้สอย 135 ตร. ม.  ใกล้เมือง อยู่ด้านหลังท่าพระจันทร์ ใกล้โรงเรียนนานาช...   \n",
       "1               ขายเดี่ยว 2 ชั้นไพรเวท เนอวานา เรสสิเดนซ์ หลัง CDC เลียบด่วนรามอินทรา ซอยโยธินพัฒนา 11   \n",
       "2                บ้านแฝด ม. ปารวีร์ เพชรเกษม63 ใกล้เดอะมอลล์บางแค และ รถไฟฟ้าสายสีน้ำเงิน สถานีหลักสอง   \n",
       "\n",
       "        sub        dis            prov  title_len  des_len  \n",
       "0     หางดง      หางดง       เชียงใหม่        197     1788  \n",
       "1  ลาดพร้าว   ลาดพร้าว   กรุงเทพมหานคร         86      666  \n",
       "2   หลักสอง      บางแค   กรุงเทพมหานคร         85     1594  "
      ]
     },
     "execution_count": 36,
     "metadata": {},
     "output_type": "execute_result"
    }
   ],
   "source": [
    "df.head(3)"
   ]
  },
  {
   "cell_type": "code",
   "execution_count": 37,
   "metadata": {},
   "outputs": [
    {
     "name": "stderr",
     "output_type": "stream",
     "text": [
      "C:\\Users\\tango\\anaconda3\\lib\\site-packages\\seaborn\\axisgrid.py:243: UserWarning: The `size` parameter has been renamed to `height`; please update your code.\n",
      "  warnings.warn(msg, UserWarning)\n"
     ]
    },
    {
     "data": {
      "text/plain": [
       "<seaborn.axisgrid.FacetGrid at 0x1a4dad10c10>"
      ]
     },
     "execution_count": 37,
     "metadata": {},
     "output_type": "execute_result"
    },
    {
     "data": {
      "image/png": "[encoded data removed]",
      "text/plain": [
       "<Figure size 864x288 with 2 Axes>"
      ]
     },
     "metadata": {
      "needs_background": "light"
     },
     "output_type": "display_data"
    }
   ],
   "source": [
    "# titles_len and status\n",
    "g = sns.FacetGrid(df,col='status', size=4, aspect=1.5)\n",
    "g.map(plt.hist,'title_len')"
   ]
  },
  {
   "cell_type": "code",
   "execution_count": 38,
   "metadata": {},
   "outputs": [
    {
     "data": {
      "text/plain": [
       "<seaborn.axisgrid.FacetGrid at 0x1a4dad49d60>"
      ]
     },
     "execution_count": 38,
     "metadata": {},
     "output_type": "execute_result"
    },
    {
     "data": {
      "image/png": "[encoded data removed]",
      "text/plain": [
       "<Figure size 864x288 with 2 Axes>"
      ]
     },
     "metadata": {
      "needs_background": "light"
     },
     "output_type": "display_data"
    }
   ],
   "source": [
    "# des_len and status\n",
    "g = sns.FacetGrid(df,col='status', size=4, aspect=1.5)\n",
    "g.map(plt.hist,'des_len')"
   ]
  },
  {
   "cell_type": "code",
   "execution_count": 39,
   "metadata": {},
   "outputs": [
    {
     "data": {
      "image/png": "[encoded data removed]",
      "text/plain": [
       "<Figure size 864x576 with 1 Axes>"
      ]
     },
     "metadata": {
      "needs_background": "light"
     },
     "output_type": "display_data"
    }
   ],
   "source": [
    "# des_len and beds\n",
    "plt.figure(figsize=(12,8))\n",
    "sns.boxplot(x='beds',y='des_len',data=df)\n",
    "plt.savefig('box_plot.png')"
   ]
  },
  {
   "cell_type": "code",
   "execution_count": 40,
   "metadata": {},
   "outputs": [
    {
     "data": {
      "text/plain": [
       "<matplotlib.axes._subplots.AxesSubplot at 0x1a4d9ea16d0>"
      ]
     },
     "execution_count": 40,
     "metadata": {},
     "output_type": "execute_result"
    },
    {
     "data": {
      "image/png": "[encoded data removed]",
      "text/plain": [
       "<Figure size 864x576 with 1 Axes>"
      ]
     },
     "metadata": {
      "needs_background": "light"
     },
     "output_type": "display_data"
    }
   ],
   "source": [
    "# title_len and beds\n",
    "plt.figure(figsize=(12,8))\n",
    "sns.boxplot(x='beds',y='title_len',data=df)"
   ]
  },
  {
   "cell_type": "code",
   "execution_count": 41,
   "metadata": {},
   "outputs": [
    {
     "data": {
      "text/plain": [
       "0       บ้านเดี่ยว 2 ชั้น พท. ที่ใช้สอย 135 ตร. ม.  ใกล้เมือง อยู่ด้านหลังท่าพระจันทร์ ใกล้โรงเรียนนานาช...\n",
       "1                    ขายเดี่ยว 2 ชั้นไพรเวท เนอวานา เรสสิเดนซ์ หลัง CDC เลียบด่วนรามอินทรา ซอยโยธินพัฒนา 11\n",
       "2                     บ้านแฝด ม. ปารวีร์ เพชรเกษม63 ใกล้เดอะมอลล์บางแค และ รถไฟฟ้าสายสีน้ำเงิน สถานีหลักสอง\n",
       "3                                                     ขายบ้านเดี่ยว 100 ตรว หมู่บ้านมณฑลทิพย์ พุทธมณฑลสาย 4\n",
       "4                                               บ้านเดี่ยว คณาสิริ ศาลายา ราคาเพียง 4.2 บิ้วอินสวย บ้านใหม่\n",
       "                                                       ...                                                 \n",
       "2395                                                                     สำหรับ ขาย บ้าน 5 ห้องนอน ที่ โป่ง\n",
       "2396                                                                     สำหรับ ขาย บ้าน 5 ห้องนอน ที่ โป่ง\n",
       "2397                            ขายด่วน! บ้านเดี่ยว 40 ตร. ว. โครงการประดิษฐ์ไพศาล 3 โซนเครือสหพัฒน์ ชลบุรี\n",
       "2398                                                                                          ขายบ้านเดี่ยว\n",
       "2399                         บ้านเดี่ยว 2 ชั้น  65.1 ตร. ว. หมู่บ้านสราญสิริ ติวานนท์ ถนนติวานนท์-แจ้งวัฒนะ\n",
       "Name: titles, Length: 2400, dtype: object"
      ]
     },
     "execution_count": 41,
     "metadata": {},
     "output_type": "execute_result"
    }
   ],
   "source": [
    "df['titles']"
   ]
  },
  {
   "cell_type": "code",
   "execution_count": 42,
   "metadata": {},
   "outputs": [],
   "source": [
    "# some words I am are interested in (schools, airports, city, associatciation, university, and view)\n",
    "#โรงเรียน  สนามบิน เมือง โครงการ มหาวิยาลัย วิว"
   ]
  },
  {
   "cell_type": "code",
   "execution_count": 43,
   "metadata": {},
   "outputs": [],
   "source": [
    "df['school'] = df['descriptions'].apply(lambda x: 1 if 'โรงเรียน' in x.lower() else 0)\n",
    "df['airport'] = df['descriptions'].apply(lambda x: 1 if 'สนามบิน' in x.lower() else 0)\n",
    "df['city'] = df['descriptions'].apply(lambda x: 1 if 'เมือง' in x.lower() else 0)\n",
    "df['association'] = df['descriptions'].apply(lambda x: 1 if 'โครงการ' in x.lower() else 0)\n",
    "df['university'] = df['descriptions'].apply(lambda x: 1 if 'มหาวิยาลัย' in x.lower() else 0)\n",
    "df['view'] = df['descriptions'].apply(lambda x: 1 if 'วิว' in x.lower() else 0)"
   ]
  },
  {
   "cell_type": "markdown",
   "metadata": {},
   "source": [
    "# Data Cleaning"
   ]
  },
  {
   "cell_type": "code",
   "execution_count": 44,
   "metadata": {},
   "outputs": [],
   "source": [
    "df.drop('address', axis = 1, inplace = True)"
   ]
  },
  {
   "cell_type": "code",
   "execution_count": 45,
   "metadata": {},
   "outputs": [
    {
     "data": {
      "text/html": [
       "<div>\n",
       "<style scoped>\n",
       "    .dataframe tbody tr th:only-of-type {\n",
       "        vertical-align: middle;\n",
       "    }\n",
       "\n",
       "    .dataframe tbody tr th {\n",
       "        vertical-align: top;\n",
       "    }\n",
       "\n",
       "    .dataframe thead th {\n",
       "        text-align: right;\n",
       "    }\n",
       "</style>\n",
       "<table border=\"1\" class=\"dataframe\">\n",
       "  <thead>\n",
       "    <tr style=\"text-align: right;\">\n",
       "      <th></th>\n",
       "      <th>areas</th>\n",
       "      <th>beds</th>\n",
       "      <th>baths</th>\n",
       "      <th>descriptions</th>\n",
       "      <th>listing_date</th>\n",
       "      <th>prices</th>\n",
       "      <th>status</th>\n",
       "      <th>titles</th>\n",
       "      <th>sub</th>\n",
       "      <th>dis</th>\n",
       "      <th>prov</th>\n",
       "      <th>title_len</th>\n",
       "      <th>des_len</th>\n",
       "      <th>school</th>\n",
       "      <th>airport</th>\n",
       "      <th>city</th>\n",
       "      <th>association</th>\n",
       "      <th>university</th>\n",
       "      <th>view</th>\n",
       "    </tr>\n",
       "  </thead>\n",
       "  <tbody>\n",
       "    <tr>\n",
       "      <th>0</th>\n",
       "      <td>50.0</td>\n",
       "      <td>3.0</td>\n",
       "      <td>3.0</td>\n",
       "      <td>รหัส  :  SH0222  🍭บ้าน สวย หลังใหญ่ ใกล้เมือง คุ้ม ใกล้สนามบิน,ร. ร. นานาชาติ 🔖เพียง 2.49 ลบ. 🎉บ...</td>\n",
       "      <td>2021-10-19</td>\n",
       "      <td>2490000</td>\n",
       "      <td>ใหม่</td>\n",
       "      <td>บ้านเดี่ยว 2 ชั้น พท. ที่ใช้สอย 135 ตร. ม.  ใกล้เมือง อยู่ด้านหลังท่าพระจันทร์ ใกล้โรงเรียนนานาช...</td>\n",
       "      <td>หางดง</td>\n",
       "      <td>หางดง</td>\n",
       "      <td>เชียงใหม่</td>\n",
       "      <td>197</td>\n",
       "      <td>1788</td>\n",
       "      <td>1</td>\n",
       "      <td>1</td>\n",
       "      <td>1</td>\n",
       "      <td>0</td>\n",
       "      <td>0</td>\n",
       "      <td>0</td>\n",
       "    </tr>\n",
       "    <tr>\n",
       "      <th>1</th>\n",
       "      <td>82.0</td>\n",
       "      <td>3.0</td>\n",
       "      <td>4.0</td>\n",
       "      <td>ขายเดี่ยว 2 ชั้นไพรเวท เนอวานา เรสสิเดนซ์ หลัง CDC เลียบด่วนรามอินทรา ซอยโยธินพัฒนา 11 ราคา 23.9...</td>\n",
       "      <td>2021-10-18</td>\n",
       "      <td>23900000</td>\n",
       "      <td>มือสอง</td>\n",
       "      <td>ขายเดี่ยว 2 ชั้นไพรเวท เนอวานา เรสสิเดนซ์ หลัง CDC เลียบด่วนรามอินทรา ซอยโยธินพัฒนา 11</td>\n",
       "      <td>ลาดพร้าว</td>\n",
       "      <td>ลาดพร้าว</td>\n",
       "      <td>กรุงเทพมหานคร</td>\n",
       "      <td>86</td>\n",
       "      <td>666</td>\n",
       "      <td>0</td>\n",
       "      <td>0</td>\n",
       "      <td>0</td>\n",
       "      <td>0</td>\n",
       "      <td>0</td>\n",
       "      <td>0</td>\n",
       "    </tr>\n",
       "    <tr>\n",
       "      <th>2</th>\n",
       "      <td>40.0</td>\n",
       "      <td>3.0</td>\n",
       "      <td>2.0</td>\n",
       "      <td>**ฟังก์ชันบ้าน**ห้องนอน : 3 ห้องห้องน้ำ : 2 ห้องจำนวนชั้น : 2 ชั้นที่จอดรถ : 1 คันเนื้อที่ 40 ตา...</td>\n",
       "      <td>2021-10-18</td>\n",
       "      <td>3990000</td>\n",
       "      <td>มือสอง</td>\n",
       "      <td>บ้านแฝด ม. ปารวีร์ เพชรเกษม63 ใกล้เดอะมอลล์บางแค และ รถไฟฟ้าสายสีน้ำเงิน สถานีหลักสอง</td>\n",
       "      <td>หลักสอง</td>\n",
       "      <td>บางแค</td>\n",
       "      <td>กรุงเทพมหานคร</td>\n",
       "      <td>85</td>\n",
       "      <td>1594</td>\n",
       "      <td>1</td>\n",
       "      <td>0</td>\n",
       "      <td>0</td>\n",
       "      <td>1</td>\n",
       "      <td>0</td>\n",
       "      <td>0</td>\n",
       "    </tr>\n",
       "    <tr>\n",
       "      <th>3</th>\n",
       "      <td>100.0</td>\n",
       "      <td>4.0</td>\n",
       "      <td>3.0</td>\n",
       "      <td>ขายบ้านเดี่ยว 2ชั้น หมู่บ้าน  มณฑลทิพย์ ต. กระทุ่มล้ม อ. สามพราน นครปฐม 🏮🔨บ้านทาสีปรับปรุงพร้อมอ...</td>\n",
       "      <td>2021-10-18</td>\n",
       "      <td>5500000</td>\n",
       "      <td>มือสอง</td>\n",
       "      <td>ขายบ้านเดี่ยว 100 ตรว หมู่บ้านมณฑลทิพย์ พุทธมณฑลสาย 4</td>\n",
       "      <td>กระทุ่มล้ม</td>\n",
       "      <td>สามพราน</td>\n",
       "      <td>นครปฐม</td>\n",
       "      <td>53</td>\n",
       "      <td>832</td>\n",
       "      <td>0</td>\n",
       "      <td>0</td>\n",
       "      <td>0</td>\n",
       "      <td>0</td>\n",
       "      <td>0</td>\n",
       "      <td>0</td>\n",
       "    </tr>\n",
       "    <tr>\n",
       "      <th>4</th>\n",
       "      <td>50.0</td>\n",
       "      <td>3.0</td>\n",
       "      <td>2.0</td>\n",
       "      <td>ขายบ้านเดี่ยว หมู่บ้านคณาสิริ ศาลายา ราคาเพียง 4.2ลบพื้นที่ 50 ตร. วา พื้นที่ใช้สอย 113 ตารางเมต...</td>\n",
       "      <td>2021-10-18</td>\n",
       "      <td>4200000</td>\n",
       "      <td>มือสอง</td>\n",
       "      <td>บ้านเดี่ยว คณาสิริ ศาลายา ราคาเพียง 4.2 บิ้วอินสวย บ้านใหม่</td>\n",
       "      <td>ศาลายา</td>\n",
       "      <td>พุทธมณฑล</td>\n",
       "      <td>นครปฐม</td>\n",
       "      <td>59</td>\n",
       "      <td>306</td>\n",
       "      <td>0</td>\n",
       "      <td>0</td>\n",
       "      <td>0</td>\n",
       "      <td>0</td>\n",
       "      <td>0</td>\n",
       "      <td>0</td>\n",
       "    </tr>\n",
       "    <tr>\n",
       "      <th>5</th>\n",
       "      <td>73.0</td>\n",
       "      <td>4.0</td>\n",
       "      <td>4.0</td>\n",
       "      <td>หมู่บ้านศิริพรการ์เด้นโฮม 9 ตั้งอยู่ที่ สันนาเม็ง สันทราย บ้านเดี่ยวขนาดใหญ่ สองชั้น พื้นที่กว้า...</td>\n",
       "      <td>2021-10-18</td>\n",
       "      <td>3200000</td>\n",
       "      <td>มือสอง</td>\n",
       "      <td>มองหาบ้านสำหรับครอบครัวขนาดใหญ่อยู่รึป่าว ? นี่เลยที่ หมู่บ้านศิริพรการ์เด้นโฮม 9</td>\n",
       "      <td>สันทราย</td>\n",
       "      <td>เมืองเชียงราย</td>\n",
       "      <td>เชียงราย</td>\n",
       "      <td>81</td>\n",
       "      <td>842</td>\n",
       "      <td>0</td>\n",
       "      <td>0</td>\n",
       "      <td>1</td>\n",
       "      <td>0</td>\n",
       "      <td>0</td>\n",
       "      <td>0</td>\n",
       "    </tr>\n",
       "    <tr>\n",
       "      <th>6</th>\n",
       "      <td>84.0</td>\n",
       "      <td>3.0</td>\n",
       "      <td>2.0</td>\n",
       "      <td>ขายบ้านเดี่ยวลำลูกกา คลอง4 ขนาด 84 ตรว  ขายบ้านเดี่ยวลำลูกกา คลอง4  ขนาด 84 ตรว มี 3  ห้องนอน 2 ...</td>\n",
       "      <td>2021-10-17</td>\n",
       "      <td>4950000</td>\n",
       "      <td>มือสอง</td>\n",
       "      <td>ขายบ้านเดี่ยวลำลูกกา คลอง4  ขนาด 84 ตรว มี 3  ห้องนอน 2 ห้องน้ำ  พร้อมเข้าอยู่ ตกแต่งเรียบร้อยแล้ว</td>\n",
       "      <td>ลาดสวาย</td>\n",
       "      <td>ลำลูกกา</td>\n",
       "      <td>ปทุมธานี</td>\n",
       "      <td>98</td>\n",
       "      <td>2504</td>\n",
       "      <td>1</td>\n",
       "      <td>0</td>\n",
       "      <td>0</td>\n",
       "      <td>0</td>\n",
       "      <td>0</td>\n",
       "      <td>0</td>\n",
       "    </tr>\n",
       "    <tr>\n",
       "      <th>7</th>\n",
       "      <td>NaN</td>\n",
       "      <td>4.0</td>\n",
       "      <td>4.0</td>\n",
       "      <td>#579796บ้านเดี่ยว  2 ชั้น อยู่ในโครงการ ดีพร้อม วิลล์ ตกแต่ง บิวอินท์ ทั้งหลัง พร้อมอยู่ มีคลับเ...</td>\n",
       "      <td>2021-10-19</td>\n",
       "      <td>10500000</td>\n",
       "      <td>มือสอง</td>\n",
       "      <td>ขายด่วน! บ้านเดี่ยว  2 ชั้น โครงการ ดีพร้อม วิลล์ เนื้อที่ 103.5 ตร. ว. ตำบลวัดไทร อำเภอแเมือง น...</td>\n",
       "      <td>วัดไทรย์</td>\n",
       "      <td>เมืองนครสวรรค์</td>\n",
       "      <td>นครสวรรค์</td>\n",
       "      <td>104</td>\n",
       "      <td>220</td>\n",
       "      <td>1</td>\n",
       "      <td>0</td>\n",
       "      <td>1</td>\n",
       "      <td>1</td>\n",
       "      <td>0</td>\n",
       "      <td>0</td>\n",
       "    </tr>\n",
       "    <tr>\n",
       "      <th>8</th>\n",
       "      <td>73.0</td>\n",
       "      <td>3.0</td>\n",
       "      <td>3.0</td>\n",
       "      <td>ขายบ้านเดี่ยวหลังริมบางละมุง พัทยา⭐️ขาย 3.99 ล้านบาท เช่า 15,000 บาทต่อเดือนโทร ดูข้อมูลการติดต่...</td>\n",
       "      <td>2021-10-17</td>\n",
       "      <td>3999000</td>\n",
       "      <td>มือสอง</td>\n",
       "      <td>บ้านเดี่ยว บางละมุง</td>\n",
       "      <td>บางละมุง</td>\n",
       "      <td>บางละมุง</td>\n",
       "      <td>ชลบุรี</td>\n",
       "      <td>19</td>\n",
       "      <td>320</td>\n",
       "      <td>0</td>\n",
       "      <td>0</td>\n",
       "      <td>0</td>\n",
       "      <td>0</td>\n",
       "      <td>0</td>\n",
       "      <td>1</td>\n",
       "    </tr>\n",
       "    <tr>\n",
       "      <th>9</th>\n",
       "      <td>NaN</td>\n",
       "      <td>3.0</td>\n",
       "      <td>3.0</td>\n",
       "      <td>ขาย บ้านคันทรีโฮม 3 ศรีราชา - หนองยายบู่ 99.6 ตร. ว. ใกล้ J-Park บ้านเดี่ยวหลังใหญ่ ถูกที่สุดในโ...</td>\n",
       "      <td>2021-10-16</td>\n",
       "      <td>5300000</td>\n",
       "      <td>มือสอง</td>\n",
       "      <td>ขาย บ้านคันทรีโฮม 3 ศรีราชา - หนองยายบู่ 99.6 ตร. ว. ใกล้ J-Park</td>\n",
       "      <td>ศรีราชา</td>\n",
       "      <td>ศรีราชา</td>\n",
       "      <td>ชลบุรี</td>\n",
       "      <td>64</td>\n",
       "      <td>865</td>\n",
       "      <td>1</td>\n",
       "      <td>0</td>\n",
       "      <td>0</td>\n",
       "      <td>1</td>\n",
       "      <td>0</td>\n",
       "      <td>0</td>\n",
       "    </tr>\n",
       "  </tbody>\n",
       "</table>\n",
       "</div>"
      ],
      "text/plain": [
       "   areas  beds  baths  \\\n",
       "0   50.0   3.0    3.0   \n",
       "1   82.0   3.0    4.0   \n",
       "2   40.0   3.0    2.0   \n",
       "3  100.0   4.0    3.0   \n",
       "4   50.0   3.0    2.0   \n",
       "5   73.0   4.0    4.0   \n",
       "6   84.0   3.0    2.0   \n",
       "7    NaN   4.0    4.0   \n",
       "8   73.0   3.0    3.0   \n",
       "9    NaN   3.0    3.0   \n",
       "\n",
       "                                                                                          descriptions  \\\n",
       "0  รหัส  :  SH0222  🍭บ้าน สวย หลังใหญ่ ใกล้เมือง คุ้ม ใกล้สนามบิน,ร. ร. นานาชาติ 🔖เพียง 2.49 ลบ. 🎉บ...   \n",
       "1  ขายเดี่ยว 2 ชั้นไพรเวท เนอวานา เรสสิเดนซ์ หลัง CDC เลียบด่วนรามอินทรา ซอยโยธินพัฒนา 11 ราคา 23.9...   \n",
       "2  **ฟังก์ชันบ้าน**ห้องนอน : 3 ห้องห้องน้ำ : 2 ห้องจำนวนชั้น : 2 ชั้นที่จอดรถ : 1 คันเนื้อที่ 40 ตา...   \n",
       "3  ขายบ้านเดี่ยว 2ชั้น หมู่บ้าน  มณฑลทิพย์ ต. กระทุ่มล้ม อ. สามพราน นครปฐม 🏮🔨บ้านทาสีปรับปรุงพร้อมอ...   \n",
       "4  ขายบ้านเดี่ยว หมู่บ้านคณาสิริ ศาลายา ราคาเพียง 4.2ลบพื้นที่ 50 ตร. วา พื้นที่ใช้สอย 113 ตารางเมต...   \n",
       "5  หมู่บ้านศิริพรการ์เด้นโฮม 9 ตั้งอยู่ที่ สันนาเม็ง สันทราย บ้านเดี่ยวขนาดใหญ่ สองชั้น พื้นที่กว้า...   \n",
       "6  ขายบ้านเดี่ยวลำลูกกา คลอง4 ขนาด 84 ตรว  ขายบ้านเดี่ยวลำลูกกา คลอง4  ขนาด 84 ตรว มี 3  ห้องนอน 2 ...   \n",
       "7  #579796บ้านเดี่ยว  2 ชั้น อยู่ในโครงการ ดีพร้อม วิลล์ ตกแต่ง บิวอินท์ ทั้งหลัง พร้อมอยู่ มีคลับเ...   \n",
       "8  ขายบ้านเดี่ยวหลังริมบางละมุง พัทยา⭐️ขาย 3.99 ล้านบาท เช่า 15,000 บาทต่อเดือนโทร ดูข้อมูลการติดต่...   \n",
       "9  ขาย บ้านคันทรีโฮม 3 ศรีราชา - หนองยายบู่ 99.6 ตร. ว. ใกล้ J-Park บ้านเดี่ยวหลังใหญ่ ถูกที่สุดในโ...   \n",
       "\n",
       "  listing_date    prices  status  \\\n",
       "0   2021-10-19   2490000    ใหม่   \n",
       "1   2021-10-18  23900000  มือสอง   \n",
       "2   2021-10-18   3990000  มือสอง   \n",
       "3   2021-10-18   5500000  มือสอง   \n",
       "4   2021-10-18   4200000  มือสอง   \n",
       "5   2021-10-18   3200000  มือสอง   \n",
       "6   2021-10-17   4950000  มือสอง   \n",
       "7   2021-10-19  10500000  มือสอง   \n",
       "8   2021-10-17   3999000  มือสอง   \n",
       "9   2021-10-16   5300000  มือสอง   \n",
       "\n",
       "                                                                                                titles  \\\n",
       "0  บ้านเดี่ยว 2 ชั้น พท. ที่ใช้สอย 135 ตร. ม.  ใกล้เมือง อยู่ด้านหลังท่าพระจันทร์ ใกล้โรงเรียนนานาช...   \n",
       "1               ขายเดี่ยว 2 ชั้นไพรเวท เนอวานา เรสสิเดนซ์ หลัง CDC เลียบด่วนรามอินทรา ซอยโยธินพัฒนา 11   \n",
       "2                บ้านแฝด ม. ปารวีร์ เพชรเกษม63 ใกล้เดอะมอลล์บางแค และ รถไฟฟ้าสายสีน้ำเงิน สถานีหลักสอง   \n",
       "3                                                ขายบ้านเดี่ยว 100 ตรว หมู่บ้านมณฑลทิพย์ พุทธมณฑลสาย 4   \n",
       "4                                          บ้านเดี่ยว คณาสิริ ศาลายา ราคาเพียง 4.2 บิ้วอินสวย บ้านใหม่   \n",
       "5                    มองหาบ้านสำหรับครอบครัวขนาดใหญ่อยู่รึป่าว ? นี่เลยที่ หมู่บ้านศิริพรการ์เด้นโฮม 9   \n",
       "6   ขายบ้านเดี่ยวลำลูกกา คลอง4  ขนาด 84 ตรว มี 3  ห้องนอน 2 ห้องน้ำ  พร้อมเข้าอยู่ ตกแต่งเรียบร้อยแล้ว   \n",
       "7  ขายด่วน! บ้านเดี่ยว  2 ชั้น โครงการ ดีพร้อม วิลล์ เนื้อที่ 103.5 ตร. ว. ตำบลวัดไทร อำเภอแเมือง น...   \n",
       "8                                                                                  บ้านเดี่ยว บางละมุง   \n",
       "9                                     ขาย บ้านคันทรีโฮม 3 ศรีราชา - หนองยายบู่ 99.6 ตร. ว. ใกล้ J-Park   \n",
       "\n",
       "          sub              dis            prov  title_len  des_len  school  \\\n",
       "0       หางดง            หางดง       เชียงใหม่        197     1788       1   \n",
       "1    ลาดพร้าว         ลาดพร้าว   กรุงเทพมหานคร         86      666       0   \n",
       "2     หลักสอง            บางแค   กรุงเทพมหานคร         85     1594       1   \n",
       "3  กระทุ่มล้ม          สามพราน          นครปฐม         53      832       0   \n",
       "4      ศาลายา         พุทธมณฑล          นครปฐม         59      306       0   \n",
       "5     สันทราย    เมืองเชียงราย        เชียงราย         81      842       0   \n",
       "6     ลาดสวาย          ลำลูกกา        ปทุมธานี         98     2504       1   \n",
       "7    วัดไทรย์   เมืองนครสวรรค์       นครสวรรค์        104      220       1   \n",
       "8    บางละมุง         บางละมุง          ชลบุรี         19      320       0   \n",
       "9     ศรีราชา          ศรีราชา          ชลบุรี         64      865       1   \n",
       "\n",
       "   airport  city  association  university  view  \n",
       "0        1     1            0           0     0  \n",
       "1        0     0            0           0     0  \n",
       "2        0     0            1           0     0  \n",
       "3        0     0            0           0     0  \n",
       "4        0     0            0           0     0  \n",
       "5        0     1            0           0     0  \n",
       "6        0     0            0           0     0  \n",
       "7        0     1            1           0     0  \n",
       "8        0     0            0           0     1  \n",
       "9        0     0            1           0     0  "
      ]
     },
     "execution_count": 45,
     "metadata": {},
     "output_type": "execute_result"
    }
   ],
   "source": [
    "df.head(10)"
   ]
  },
  {
   "cell_type": "code",
   "execution_count": 46,
   "metadata": {},
   "outputs": [],
   "source": [
    "# creating dummies for prov\n",
    "prov_dummies = pd.get_dummies(data=df['prov'],drop_first=True)\n",
    "df = pd.concat([df.drop('prov',axis=1),prov_dummies],axis=1)"
   ]
  },
  {
   "cell_type": "code",
   "execution_count": 47,
   "metadata": {},
   "outputs": [],
   "source": [
    "# creating dummies for dis\n",
    "sub_dummies = pd.get_dummies(data=df['dis'],drop_first=True)\n",
    "df = pd.concat([df.drop('dis',axis=1),sub_dummies],axis=1)"
   ]
  },
  {
   "cell_type": "code",
   "execution_count": 48,
   "metadata": {},
   "outputs": [
    {
     "data": {
      "text/plain": [
       "Index(['areas', 'beds', 'baths', 'descriptions', 'listing_date', 'prices',\n",
       "       'status', 'titles', 'sub', 'title_len',\n",
       "       ...\n",
       "       ' แก่งคอย', ' แปลงยาว', ' แม่จัน', ' แม่ทะ', ' แม่ริม', ' แม่แตง',\n",
       "       ' โคกสำโรง', ' โพธาราม', ' ไชยา', ' ไทรน้อย'],\n",
       "      dtype='object', length=259)"
      ]
     },
     "execution_count": 48,
     "metadata": {},
     "output_type": "execute_result"
    }
   ],
   "source": [
    "df.columns"
   ]
  },
  {
   "cell_type": "code",
   "execution_count": 49,
   "metadata": {},
   "outputs": [],
   "source": [
    "# sub dis has alot of value duplicated from dis, so I will drop it \n",
    "df.drop('sub', axis=1, inplace = True)"
   ]
  },
  {
   "cell_type": "code",
   "execution_count": 50,
   "metadata": {},
   "outputs": [],
   "source": [
    "# droping titles and description\n",
    "df.drop(['titles','descriptions'], axis=1, inplace = True)"
   ]
  },
  {
   "cell_type": "code",
   "execution_count": 51,
   "metadata": {},
   "outputs": [],
   "source": [
    "# creating dummies for status\n",
    "status_dummies = pd.get_dummies(data=df['status'],drop_first=True)\n",
    "df = pd.concat([df.drop('status',axis=1),status_dummies],axis=1)"
   ]
  },
  {
   "cell_type": "code",
   "execution_count": 52,
   "metadata": {},
   "outputs": [
    {
     "data": {
      "text/html": [
       "<div>\n",
       "<style scoped>\n",
       "    .dataframe tbody tr th:only-of-type {\n",
       "        vertical-align: middle;\n",
       "    }\n",
       "\n",
       "    .dataframe tbody tr th {\n",
       "        vertical-align: top;\n",
       "    }\n",
       "\n",
       "    .dataframe thead th {\n",
       "        text-align: right;\n",
       "    }\n",
       "</style>\n",
       "<table border=\"1\" class=\"dataframe\">\n",
       "  <thead>\n",
       "    <tr style=\"text-align: right;\">\n",
       "      <th></th>\n",
       "      <th>areas</th>\n",
       "      <th>beds</th>\n",
       "      <th>baths</th>\n",
       "      <th>listing_date</th>\n",
       "      <th>prices</th>\n",
       "      <th>title_len</th>\n",
       "      <th>des_len</th>\n",
       "      <th>school</th>\n",
       "      <th>airport</th>\n",
       "      <th>city</th>\n",
       "      <th>...</th>\n",
       "      <th>แปลงยาว</th>\n",
       "      <th>แม่จัน</th>\n",
       "      <th>แม่ทะ</th>\n",
       "      <th>แม่ริม</th>\n",
       "      <th>แม่แตง</th>\n",
       "      <th>โคกสำโรง</th>\n",
       "      <th>โพธาราม</th>\n",
       "      <th>ไชยา</th>\n",
       "      <th>ไทรน้อย</th>\n",
       "      <th>ใหม่</th>\n",
       "    </tr>\n",
       "  </thead>\n",
       "  <tbody>\n",
       "    <tr>\n",
       "      <th>0</th>\n",
       "      <td>50.0</td>\n",
       "      <td>3.0</td>\n",
       "      <td>3.0</td>\n",
       "      <td>2021-10-19</td>\n",
       "      <td>2490000</td>\n",
       "      <td>197</td>\n",
       "      <td>1788</td>\n",
       "      <td>1</td>\n",
       "      <td>1</td>\n",
       "      <td>1</td>\n",
       "      <td>...</td>\n",
       "      <td>0</td>\n",
       "      <td>0</td>\n",
       "      <td>0</td>\n",
       "      <td>0</td>\n",
       "      <td>0</td>\n",
       "      <td>0</td>\n",
       "      <td>0</td>\n",
       "      <td>0</td>\n",
       "      <td>0</td>\n",
       "      <td>1</td>\n",
       "    </tr>\n",
       "    <tr>\n",
       "      <th>1</th>\n",
       "      <td>82.0</td>\n",
       "      <td>3.0</td>\n",
       "      <td>4.0</td>\n",
       "      <td>2021-10-18</td>\n",
       "      <td>23900000</td>\n",
       "      <td>86</td>\n",
       "      <td>666</td>\n",
       "      <td>0</td>\n",
       "      <td>0</td>\n",
       "      <td>0</td>\n",
       "      <td>...</td>\n",
       "      <td>0</td>\n",
       "      <td>0</td>\n",
       "      <td>0</td>\n",
       "      <td>0</td>\n",
       "      <td>0</td>\n",
       "      <td>0</td>\n",
       "      <td>0</td>\n",
       "      <td>0</td>\n",
       "      <td>0</td>\n",
       "      <td>0</td>\n",
       "    </tr>\n",
       "    <tr>\n",
       "      <th>2</th>\n",
       "      <td>40.0</td>\n",
       "      <td>3.0</td>\n",
       "      <td>2.0</td>\n",
       "      <td>2021-10-18</td>\n",
       "      <td>3990000</td>\n",
       "      <td>85</td>\n",
       "      <td>1594</td>\n",
       "      <td>1</td>\n",
       "      <td>0</td>\n",
       "      <td>0</td>\n",
       "      <td>...</td>\n",
       "      <td>0</td>\n",
       "      <td>0</td>\n",
       "      <td>0</td>\n",
       "      <td>0</td>\n",
       "      <td>0</td>\n",
       "      <td>0</td>\n",
       "      <td>0</td>\n",
       "      <td>0</td>\n",
       "      <td>0</td>\n",
       "      <td>0</td>\n",
       "    </tr>\n",
       "  </tbody>\n",
       "</table>\n",
       "<p>3 rows × 256 columns</p>\n",
       "</div>"
      ],
      "text/plain": [
       "   areas  beds  baths listing_date    prices  title_len  des_len  school  \\\n",
       "0   50.0   3.0    3.0   2021-10-19   2490000        197     1788       1   \n",
       "1   82.0   3.0    4.0   2021-10-18  23900000         86      666       0   \n",
       "2   40.0   3.0    2.0   2021-10-18   3990000         85     1594       1   \n",
       "\n",
       "   airport  city  ...   แปลงยาว   แม่จัน   แม่ทะ   แม่ริม   แม่แตง   โคกสำโรง  \\\n",
       "0        1     1  ...         0        0       0        0        0          0   \n",
       "1        0     0  ...         0        0       0        0        0          0   \n",
       "2        0     0  ...         0        0       0        0        0          0   \n",
       "\n",
       "    โพธาราม   ไชยา   ไทรน้อย  ใหม่  \n",
       "0         0      0         0     1  \n",
       "1         0      0         0     0  \n",
       "2         0      0         0     0  \n",
       "\n",
       "[3 rows x 256 columns]"
      ]
     },
     "execution_count": 52,
     "metadata": {},
     "output_type": "execute_result"
    }
   ],
   "source": [
    "df.head(3)"
   ]
  },
  {
   "cell_type": "code",
   "execution_count": 53,
   "metadata": {},
   "outputs": [
    {
     "data": {
      "text/plain": [
       "array(['areas', 'beds', 'baths', 'listing_date', 'prices', 'title_len',\n",
       "       'des_len', 'school', 'airport', 'city', 'association',\n",
       "       'university', 'view', ' กรุงเทพมหานคร', ' กาญจนบุรี', ' กาฬสินธุ์',\n",
       "       ' ขอนแก่น', ' จันทบุรี', ' ฉะเชิงเทรา', ' ชลบุรี', ' ชัยภูมิ',\n",
       "       ' ชุมพร', ' ตราด', ' นครนายก', ' นครปฐม', ' นครราชสีมา',\n",
       "       ' นครศรีธรรมราช', ' นครสวรรค์', ' นนทบุรี', ' น่าน', ' บึงกาฬ',\n",
       "       ' บุรีรัมย์', ' ปทุมธานี', ' ประจวบคีรีขันธ์', ' ปราจีนบุรี',\n",
       "       ' พระนครศรีอยุธยา', ' พะเยา', ' พิษณุโลก', ' ภูเก็ต', ' ระยอง',\n",
       "       ' ราชบุรี', ' ร้อยเอ็ด', ' ลพบุรี', ' ลำปาง', ' ลำพูน',\n",
       "       ' ศรีสะเกษ', ' สงขลา', ' สมุทรปราการ', ' สมุทรสงคราม',\n",
       "       ' สมุทรสาคร', ' สระบุรี', ' สระแก้ว', ' สิงห์บุรี', ' สุพรรณบุรี',\n",
       "       ' สุราษฎร์ธานี', ' สุรินทร์', ' สุโขทัย', ' อุตรดิตถ์',\n",
       "       ' อุบลราชธานี', ' เชียงราย', ' เชียงใหม่', ' เพชรบุรี',\n",
       "       ' เพชรบูรณ์', ' กะทู้', ' กำแพงแสน', ' คลองสามวา', ' คลองหลวง',\n",
       "       ' คลองเตย', ' คันนายาว', ' ค่ายบางระจัน', ' จตุจักร', ' จอมทอง',\n",
       "       ' จอมบึง', ' ชะอำ', ' ชุมแพ', ' ดอนตูม', ' ดอนเมือง', ' ดอยสะเก็ด',\n",
       "       ' ดินแดง', ' ตลิ่งชัน', ' ตาคลี', ' ถลาง', ' ทวีวัฒนา', ' ทุ่งครุ',\n",
       "       ' ทุ่งสง', ' ท่าปลา', ' ท่ามะกา', ' ท่าม่วง', ' ท่ายาง',\n",
       "       ' ท่าใหม่', ' ธวัชบุรี', ' ธัญบุรี', ' นครชัยศรี', ' นิคมพัฒนา',\n",
       "       ' บางกรวย', ' บางกล่ำ', ' บางกะปิ', ' บางขุนเทียน', ' บางคนที',\n",
       "       ' บางคอแหลม', ' บางซื่อ', ' บางนา', ' บางบอน', ' บางบัวทอง',\n",
       "       ' บางบ่อ', ' บางปะกง', ' บางปะหัน', ' บางปะอิน', ' บางพลัด',\n",
       "       ' บางพลี', ' บางละมุง', ' บางเขน', ' บางเลน', ' บางเสาธง',\n",
       "       ' บางแค', ' บางแพ', ' บางใหญ่', ' บางไทร', ' บึงกุ่ม', ' บ่อไร่',\n",
       "       ' บ้านค่าย', ' บ้านฉาง', ' บ้านธิ', ' บ้านบึง', ' บ้านเขว้า',\n",
       "       ' บ้านโป่ง', ' บ้านโพธิ์', ' ประจันตคาม', ' ประเวศ', ' ประโคนชัย',\n",
       "       ' ปราณบุรี', ' ปราสาท', ' ปลวกแดง', ' ปะทิว', ' ปากช่อง',\n",
       "       ' ปากท่อ', ' ปากเกร็ด', ' ฝาง', ' พญาไท', ' พนมสารคาม',\n",
       "       ' พรหมคีรี', ' พระนครศรีอยุธยา', ' พระประแดง', ' พระพุทธบาท',\n",
       "       ' พระสมุทรเจดีย์', ' พระโขนง', ' พร้าว', ' พานทอง',\n",
       "       ' พิบูลมังสาหาร', ' พุทธมณฑล', ' ภาษีเจริญ', ' ภูกามยาว',\n",
       "       ' ภูเพียง', ' มวกเหล็ก', ' มัญจาคีรี', ' มีนบุรี', ' ยางตลาด',\n",
       "       ' ราษฎร์บูรณะ', ' ราษีไศล', ' ลาดกระบัง', ' ลาดบัวหลวง',\n",
       "       ' ลาดพร้าว', ' ลาดหลุมแก้ว', ' ลำลูกกา', ' วังทอง', ' วังทองหลาง',\n",
       "       ' วังน้อย', ' วัฒนา', ' วารินชำราบ', ' ศรีมหาโพธิ', ' ศรีราชา',\n",
       "       ' สวนหลวง', ' สองพี่น้อง', ' สอยดาว', ' สะพานสูง', ' สัตหีบ',\n",
       "       ' สันกำแพง', ' สันทราย', ' สันป่าตอง', ' สาทร', ' สามพราน',\n",
       "       ' สามร้อยยอด', ' สามโคก', ' สายไหม', ' สารภี', ' สิชล', ' สูงเนิน',\n",
       "       ' หนองจอก', ' หนองเสือ', ' หนองแขม', ' หลักสี่', ' หล่มเก่า',\n",
       "       ' หัวหิน', ' หางดง', ' หาดใหญ่', ' ห้วยขวาง', ' ห้างฉัตร',\n",
       "       ' องครักษ์', ' อรัญประเทศ', ' อัมพวา', ' อุทัย', ' อุทุมพรพิสัย',\n",
       "       ' ฮอด', ' เกาะสมุย', ' เขาฉกรรจ์', ' เขาสวนกวาง', ' เชียงกลาง',\n",
       "       ' เชียงของ', ' เทิง', ' เมืองกระบี่', ' เมืองกาญจนบุรี',\n",
       "       ' เมืองจันทบุรี', ' เมืองฉะเชิงเทรา', ' เมืองชลบุรี',\n",
       "       ' เมืองชัยภูมิ', ' เมืองตราด', ' เมืองนครนายก', ' เมืองนครปฐม',\n",
       "       ' เมืองนครศรีธรรมราช', ' เมืองนครสวรรค์', ' เมืองนนทบุรี',\n",
       "       ' เมืองบึงกาฬ', ' เมืองปทุมธานี', ' เมืองประจวบคีรีขันธ์',\n",
       "       ' เมืองปราจีนบุรี', ' เมืองพะเยา', ' เมืองพิษณุโลก',\n",
       "       ' เมืองภูเก็ต', ' เมืองระยอง', ' เมืองลำปาง', ' เมืองลำพูน',\n",
       "       ' เมืองสงขลา', ' เมืองสมุทรปราการ', ' เมืองสมุทรสงคราม',\n",
       "       ' เมืองสมุทรสาคร', ' เมืองสระบุรี', ' เมืองสุพรรณบุรี',\n",
       "       ' เมืองสุราษฎร์ธานี', ' เมืองสุโขทัย', ' เมืองอุบลราชธานี',\n",
       "       ' เมืองเชียงราย', ' เมืองเชียงใหม่', ' เมืองเพชรบุรี',\n",
       "       ' เมืองเพชรบูรณ์', ' เสนา', ' แก่งคอย', ' แปลงยาว', ' แม่จัน',\n",
       "       ' แม่ทะ', ' แม่ริม', ' แม่แตง', ' โคกสำโรง', ' โพธาราม', ' ไชยา',\n",
       "       ' ไทรน้อย', 'ใหม่'], dtype=object)"
      ]
     },
     "execution_count": 53,
     "metadata": {},
     "output_type": "execute_result"
    }
   ],
   "source": [
    "df.columns.values"
   ]
  },
  {
   "cell_type": "code",
   "execution_count": 54,
   "metadata": {},
   "outputs": [],
   "source": [
    "df.to_csv('thai_housing_price_data_cleaned.csv')"
   ]
  }
 ],
 "metadata": {
  "kernelspec": {
   "display_name": "Python 3",
   "language": "python",
   "name": "python3"
  },
  "language_info": {
   "codemirror_mode": {
    "name": "ipython",
    "version": 3
   },
   "file_extension": ".py",
   "mimetype": "text/x-python",
   "name": "python",
   "nbconvert_exporter": "python",
   "pygments_lexer": "ipython3",
   "version": "3.8.3"
  }
 },
 "nbformat": 4,
 "nbformat_minor": 4
}
