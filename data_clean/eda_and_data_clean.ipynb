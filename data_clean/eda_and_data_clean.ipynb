{
 "cells": [
  {
   "cell_type": "markdown",
   "metadata": {},
   "source": [
    "OVERALL GOAL: Get an understanding for which variables are important, view summary statistics, and visualize the data"
   ]
  },
  {
   "cell_type": "markdown",
   "metadata": {},
   "source": [
    "# EDA"
   ]
  },
  {
   "cell_type": "code",
   "execution_count": 1,
   "metadata": {},
   "outputs": [],
   "source": [
    "# -*- coding: utf-8 -*-\n",
    "from __future__ import unicode_literals\n",
    "import numpy as np\n",
    "import pandas as pd\n",
    "import matplotlib.pyplot as plt\n",
    "import seaborn as sns\n",
    "\n",
    "%matplotlib inline"
   ]
  },
  {
   "cell_type": "code",
   "execution_count": 2,
   "metadata": {},
   "outputs": [],
   "source": [
    "df = pd.read_csv('../data_collect/housing_data_thailand_2021.csv')"
   ]
  },
  {
   "cell_type": "code",
   "execution_count": 3,
   "metadata": {},
   "outputs": [
    {
     "data": {
      "text/html": [
       "<div>\n",
       "<style scoped>\n",
       "    .dataframe tbody tr th:only-of-type {\n",
       "        vertical-align: middle;\n",
       "    }\n",
       "\n",
       "    .dataframe tbody tr th {\n",
       "        vertical-align: top;\n",
       "    }\n",
       "\n",
       "    .dataframe thead th {\n",
       "        text-align: right;\n",
       "    }\n",
       "</style>\n",
       "<table border=\"1\" class=\"dataframe\">\n",
       "  <thead>\n",
       "    <tr style=\"text-align: right;\">\n",
       "      <th></th>\n",
       "      <th>address</th>\n",
       "      <th>areas</th>\n",
       "      <th>beds</th>\n",
       "      <th>baths</th>\n",
       "      <th>descriptions</th>\n",
       "      <th>listing_date</th>\n",
       "      <th>prices</th>\n",
       "      <th>status</th>\n",
       "      <th>titles</th>\n",
       "    </tr>\n",
       "  </thead>\n",
       "  <tbody>\n",
       "    <tr>\n",
       "      <th>0</th>\n",
       "      <td>หางดง, หางดง, เชียงใหม่</td>\n",
       "      <td>50.0</td>\n",
       "      <td>3.0</td>\n",
       "      <td>3.0</td>\n",
       "      <td>รหัส  :  SH0222  🍭บ้าน สวย หลังใหญ่ ใกล้เมือง ...</td>\n",
       "      <td>19 October 2021</td>\n",
       "      <td>2,490,000</td>\n",
       "      <td>ใหม่</td>\n",
       "      <td>บ้านเดี่ยว 2 ชั้น พท. ที่ใช้สอย 135 ตร. ม.  ใก...</td>\n",
       "    </tr>\n",
       "    <tr>\n",
       "      <th>1</th>\n",
       "      <td>ลาดพร้าว, ลาดพร้าว, กรุงเทพมหานคร</td>\n",
       "      <td>82.0</td>\n",
       "      <td>3.0</td>\n",
       "      <td>4.0</td>\n",
       "      <td>ขายเดี่ยว 2 ชั้นไพรเวท เนอวานา เรสสิเดนซ์ หลัง...</td>\n",
       "      <td>18 October 2021</td>\n",
       "      <td>23,900,000</td>\n",
       "      <td>มือสอง</td>\n",
       "      <td>ขายเดี่ยว 2 ชั้นไพรเวท เนอวานา เรสสิเดนซ์ หลัง...</td>\n",
       "    </tr>\n",
       "    <tr>\n",
       "      <th>2</th>\n",
       "      <td>หลักสอง, บางแค, กรุงเทพมหานคร</td>\n",
       "      <td>40.0</td>\n",
       "      <td>3.0</td>\n",
       "      <td>2.0</td>\n",
       "      <td>**ฟังก์ชันบ้าน**ห้องนอน : 3 ห้องห้องน้ำ : 2 ห้...</td>\n",
       "      <td>18 October 2021</td>\n",
       "      <td>3,990,000</td>\n",
       "      <td>มือสอง</td>\n",
       "      <td>บ้านแฝด ม. ปารวีร์ เพชรเกษม63 ใกล้เดอะมอลล์บาง...</td>\n",
       "    </tr>\n",
       "    <tr>\n",
       "      <th>3</th>\n",
       "      <td>กระทุ่มล้ม, สามพราน, นครปฐม</td>\n",
       "      <td>100.0</td>\n",
       "      <td>4.0</td>\n",
       "      <td>3.0</td>\n",
       "      <td>ขายบ้านเดี่ยว 2ชั้น หมู่บ้าน  มณฑลทิพย์ ต. กระ...</td>\n",
       "      <td>18 October 2021</td>\n",
       "      <td>5,500,000</td>\n",
       "      <td>มือสอง</td>\n",
       "      <td>ขายบ้านเดี่ยว 100 ตรว หมู่บ้านมณฑลทิพย์ พุทธมณ...</td>\n",
       "    </tr>\n",
       "    <tr>\n",
       "      <th>4</th>\n",
       "      <td>ศาลายา, พุทธมณฑล, นครปฐม</td>\n",
       "      <td>50.0</td>\n",
       "      <td>3.0</td>\n",
       "      <td>2.0</td>\n",
       "      <td>ขายบ้านเดี่ยว หมู่บ้านคณาสิริ ศาลายา ราคาเพียง...</td>\n",
       "      <td>18 October 2021</td>\n",
       "      <td>4,200,000</td>\n",
       "      <td>มือสอง</td>\n",
       "      <td>บ้านเดี่ยว คณาสิริ ศาลายา ราคาเพียง 4.2 บิ้วอิ...</td>\n",
       "    </tr>\n",
       "    <tr>\n",
       "      <th>5</th>\n",
       "      <td>สันทราย, เมืองเชียงราย, เชียงราย</td>\n",
       "      <td>73.0</td>\n",
       "      <td>4.0</td>\n",
       "      <td>4.0</td>\n",
       "      <td>หมู่บ้านศิริพรการ์เด้นโฮม 9 ตั้งอยู่ที่ สันนาเ...</td>\n",
       "      <td>18 October 2021</td>\n",
       "      <td>3,200,000</td>\n",
       "      <td>มือสอง</td>\n",
       "      <td>มองหาบ้านสำหรับครอบครัวขนาดใหญ่อยู่รึป่าว ? นี...</td>\n",
       "    </tr>\n",
       "    <tr>\n",
       "      <th>6</th>\n",
       "      <td>ลาดสวาย, ลำลูกกา, ปทุมธานี</td>\n",
       "      <td>84.0</td>\n",
       "      <td>3.0</td>\n",
       "      <td>2.0</td>\n",
       "      <td>ขายบ้านเดี่ยวลำลูกกา คลอง4 ขนาด 84 ตรว  ขายบ้า...</td>\n",
       "      <td>17 October 2021</td>\n",
       "      <td>4,950,000</td>\n",
       "      <td>มือสอง</td>\n",
       "      <td>ขายบ้านเดี่ยวลำลูกกา คลอง4  ขนาด 84 ตรว มี 3  ...</td>\n",
       "    </tr>\n",
       "    <tr>\n",
       "      <th>7</th>\n",
       "      <td>วัดไทรย์, เมืองนครสวรรค์, นครสวรรค์</td>\n",
       "      <td>NaN</td>\n",
       "      <td>4.0</td>\n",
       "      <td>4.0</td>\n",
       "      <td>#579796บ้านเดี่ยว  2 ชั้น อยู่ในโครงการ ดีพร้อ...</td>\n",
       "      <td>19 October 2021</td>\n",
       "      <td>10,500,000</td>\n",
       "      <td>มือสอง</td>\n",
       "      <td>ขายด่วน! บ้านเดี่ยว  2 ชั้น โครงการ ดีพร้อม วิ...</td>\n",
       "    </tr>\n",
       "    <tr>\n",
       "      <th>8</th>\n",
       "      <td>บางละมุง, บางละมุง, ชลบุรี</td>\n",
       "      <td>73.0</td>\n",
       "      <td>3.0</td>\n",
       "      <td>3.0</td>\n",
       "      <td>ขายบ้านเดี่ยวหลังริมบางละมุง พัทยา⭐️ขาย 3.99 ล...</td>\n",
       "      <td>17 October 2021</td>\n",
       "      <td>3,999,000</td>\n",
       "      <td>มือสอง</td>\n",
       "      <td>บ้านเดี่ยว บางละมุง</td>\n",
       "    </tr>\n",
       "    <tr>\n",
       "      <th>9</th>\n",
       "      <td>ศรีราชา, ศรีราชา, ชลบุรี</td>\n",
       "      <td>NaN</td>\n",
       "      <td>3.0</td>\n",
       "      <td>3.0</td>\n",
       "      <td>ขาย บ้านคันทรีโฮม 3 ศรีราชา - หนองยายบู่ 99.6 ...</td>\n",
       "      <td>16 October 2021</td>\n",
       "      <td>5,300,000</td>\n",
       "      <td>มือสอง</td>\n",
       "      <td>ขาย บ้านคันทรีโฮม 3 ศรีราชา - หนองยายบู่ 99.6 ...</td>\n",
       "    </tr>\n",
       "  </tbody>\n",
       "</table>\n",
       "</div>"
      ],
      "text/plain": [
       "                               address  areas  beds  baths  \\\n",
       "0              หางดง, หางดง, เชียงใหม่   50.0   3.0    3.0   \n",
       "1    ลาดพร้าว, ลาดพร้าว, กรุงเทพมหานคร   82.0   3.0    4.0   \n",
       "2        หลักสอง, บางแค, กรุงเทพมหานคร   40.0   3.0    2.0   \n",
       "3          กระทุ่มล้ม, สามพราน, นครปฐม  100.0   4.0    3.0   \n",
       "4             ศาลายา, พุทธมณฑล, นครปฐม   50.0   3.0    2.0   \n",
       "5     สันทราย, เมืองเชียงราย, เชียงราย   73.0   4.0    4.0   \n",
       "6           ลาดสวาย, ลำลูกกา, ปทุมธานี   84.0   3.0    2.0   \n",
       "7  วัดไทรย์, เมืองนครสวรรค์, นครสวรรค์    NaN   4.0    4.0   \n",
       "8           บางละมุง, บางละมุง, ชลบุรี   73.0   3.0    3.0   \n",
       "9             ศรีราชา, ศรีราชา, ชลบุรี    NaN   3.0    3.0   \n",
       "\n",
       "                                        descriptions     listing_date  \\\n",
       "0  รหัส  :  SH0222  🍭บ้าน สวย หลังใหญ่ ใกล้เมือง ...  19 October 2021   \n",
       "1  ขายเดี่ยว 2 ชั้นไพรเวท เนอวานา เรสสิเดนซ์ หลัง...  18 October 2021   \n",
       "2  **ฟังก์ชันบ้าน**ห้องนอน : 3 ห้องห้องน้ำ : 2 ห้...  18 October 2021   \n",
       "3  ขายบ้านเดี่ยว 2ชั้น หมู่บ้าน  มณฑลทิพย์ ต. กระ...  18 October 2021   \n",
       "4  ขายบ้านเดี่ยว หมู่บ้านคณาสิริ ศาลายา ราคาเพียง...  18 October 2021   \n",
       "5  หมู่บ้านศิริพรการ์เด้นโฮม 9 ตั้งอยู่ที่ สันนาเ...  18 October 2021   \n",
       "6  ขายบ้านเดี่ยวลำลูกกา คลอง4 ขนาด 84 ตรว  ขายบ้า...  17 October 2021   \n",
       "7  #579796บ้านเดี่ยว  2 ชั้น อยู่ในโครงการ ดีพร้อ...  19 October 2021   \n",
       "8  ขายบ้านเดี่ยวหลังริมบางละมุง พัทยา⭐️ขาย 3.99 ล...  17 October 2021   \n",
       "9  ขาย บ้านคันทรีโฮม 3 ศรีราชา - หนองยายบู่ 99.6 ...  16 October 2021   \n",
       "\n",
       "       prices  status                                             titles  \n",
       "0   2,490,000    ใหม่  บ้านเดี่ยว 2 ชั้น พท. ที่ใช้สอย 135 ตร. ม.  ใก...  \n",
       "1  23,900,000  มือสอง  ขายเดี่ยว 2 ชั้นไพรเวท เนอวานา เรสสิเดนซ์ หลัง...  \n",
       "2   3,990,000  มือสอง  บ้านแฝด ม. ปารวีร์ เพชรเกษม63 ใกล้เดอะมอลล์บาง...  \n",
       "3   5,500,000  มือสอง  ขายบ้านเดี่ยว 100 ตรว หมู่บ้านมณฑลทิพย์ พุทธมณ...  \n",
       "4   4,200,000  มือสอง  บ้านเดี่ยว คณาสิริ ศาลายา ราคาเพียง 4.2 บิ้วอิ...  \n",
       "5   3,200,000  มือสอง  มองหาบ้านสำหรับครอบครัวขนาดใหญ่อยู่รึป่าว ? นี...  \n",
       "6   4,950,000  มือสอง  ขายบ้านเดี่ยวลำลูกกา คลอง4  ขนาด 84 ตรว มี 3  ...  \n",
       "7  10,500,000  มือสอง  ขายด่วน! บ้านเดี่ยว  2 ชั้น โครงการ ดีพร้อม วิ...  \n",
       "8   3,999,000  มือสอง                                บ้านเดี่ยว บางละมุง  \n",
       "9   5,300,000  มือสอง  ขาย บ้านคันทรีโฮม 3 ศรีราชา - หนองยายบู่ 99.6 ...  "
      ]
     },
     "execution_count": 3,
     "metadata": {},
     "output_type": "execute_result"
    }
   ],
   "source": [
    "df.head(10)"
   ]
  },
  {
   "cell_type": "code",
   "execution_count": 4,
   "metadata": {},
   "outputs": [],
   "source": [
    "# convert prices to float\n",
    "df['prices'] = df['prices'].str.replace(',','').astype(int)"
   ]
  },
  {
   "cell_type": "code",
   "execution_count": 5,
   "metadata": {},
   "outputs": [
    {
     "data": {
      "text/plain": [
       "249000000"
      ]
     },
     "execution_count": 5,
     "metadata": {},
     "output_type": "execute_result"
    }
   ],
   "source": [
    "df['prices'].max()"
   ]
  },
  {
   "cell_type": "code",
   "execution_count": 6,
   "metadata": {},
   "outputs": [
    {
     "data": {
      "image/png": "[encoded data removed]",
      "text/plain": [
       "<Figure size 864x576 with 1 Axes>"
      ]
     },
     "metadata": {
      "needs_background": "light"
     },
     "output_type": "display_data"
    }
   ],
   "source": [
    "# histogram of prices\n",
    "fig, ax = plt.subplots(figsize=(12,8))\n",
    "sns.distplot(df['prices'], ax=ax, bins=1000)\n",
    "ax.set_xlim(3600,249000001)\n",
    "plt.show()"
   ]
  },
  {
   "cell_type": "code",
   "execution_count": 7,
   "metadata": {},
   "outputs": [],
   "source": [
    "# change the font to Thai\n",
    "import matplotlib\n",
    "import matplotlib.font_manager as fm\n",
    "\n",
    "matplotlib.font_manager.fontManager.addfont('THSarabunNew.ttf')\n",
    "\n",
    "matplotlib.rc('font', family = 'TH Sarabun New')\n",
    "matplotlib.rcParams.update({'font.size': 20})"
   ]
  },
  {
   "cell_type": "code",
   "execution_count": null,
   "metadata": {},
   "outputs": [],
   "source": [
    "# countplot of status\n",
    "plt.figure(figsize=(12,8))\n",
    "sns.countplot(x='status',data=df)"
   ]
  },
  {
   "cell_type": "code",
   "execution_count": null,
   "metadata": {},
   "outputs": [],
   "source": [
    "#heatmap of the corrolation of evething\n",
    "plt.figure(figsize=(12,8))\n",
    "sns.heatmap(df.corr(),annot=True,cmap='viridis')\n",
    "plt.savefig('heat_plot.png')"
   ]
  },
  {
   "cell_type": "code",
   "execution_count": null,
   "metadata": {},
   "outputs": [],
   "source": [
    "#convert listing_dates to date time\n",
    "df['listing_date'] = pd.to_datetime(df['listing_date'])"
   ]
  },
  {
   "cell_type": "code",
   "execution_count": null,
   "metadata": {},
   "outputs": [],
   "source": [
    "#scatterplot between listing dates and prices\n",
    "plt.figure(figsize=(12,8))\n",
    "sns.scatterplot(x='prices',y='listing_date',data=df,)"
   ]
  },
  {
   "cell_type": "code",
   "execution_count": null,
   "metadata": {},
   "outputs": [],
   "source": [
    "#scatterplot between area and prices\n",
    "plt.figure(figsize=(12,8))\n",
    "sns.scatterplot(x='prices',y='areas',data=df,)\n",
    "plt.savefig('sactter_plot.png')"
   ]
  },
  {
   "cell_type": "code",
   "execution_count": null,
   "metadata": {},
   "outputs": [],
   "source": [
    "#boxplot between prices and bed\n",
    "plt.figure(figsize=(12,8))\n",
    "sns.boxplot(x='beds',y='prices',data=df)"
   ]
  },
  {
   "cell_type": "code",
   "execution_count": null,
   "metadata": {},
   "outputs": [],
   "source": [
    "#boxplot between prices and bed\n",
    "plt.figure(figsize=(12,8))\n",
    "sns.boxplot(x='baths',y='prices',data=df)"
   ]
  },
  {
   "cell_type": "code",
   "execution_count": null,
   "metadata": {},
   "outputs": [],
   "source": [
    "# See how many address don't have 2 commas\n",
    "commas = df['address'].apply(lambda x: x.count(','))\n",
    "commas.value_counts()"
   ]
  },
  {
   "cell_type": "code",
   "execution_count": null,
   "metadata": {},
   "outputs": [],
   "source": [
    "#find columns with irregular format (they have more than or less than 2 commas)\n",
    "def find_commas(address):\n",
    "    if address.count(',') != 2:\n",
    "        return address"
   ]
  },
  {
   "cell_type": "code",
   "execution_count": null,
   "metadata": {},
   "outputs": [],
   "source": [
    "result = df['address'].apply(lambda x: find_commas(x))"
   ]
  },
  {
   "cell_type": "code",
   "execution_count": null,
   "metadata": {},
   "outputs": [],
   "source": [
    "# display 100 words per column\n",
    "pd.options.display.max_colwidth = 100"
   ]
  },
  {
   "cell_type": "code",
   "execution_count": null,
   "metadata": {},
   "outputs": [],
   "source": [
    "# the ones with 3 commas have condo names, subdist, dist, prov. The ones with 1 comma have dist and prov\n",
    "result.dropna()"
   ]
  },
  {
   "cell_type": "code",
   "execution_count": null,
   "metadata": {},
   "outputs": [],
   "source": [
    "test = 'เดอะ เพรสซิเดนท์ สุขุมวิท-สมุทรปราการ, บางด้วน, เมืองสมุทรปราการ, สมุทรปราการ'"
   ]
  },
  {
   "cell_type": "code",
   "execution_count": null,
   "metadata": {},
   "outputs": [],
   "source": [
    "result = test.split(',')"
   ]
  },
  {
   "cell_type": "code",
   "execution_count": null,
   "metadata": {},
   "outputs": [],
   "source": [
    "result = result[1:]"
   ]
  },
  {
   "cell_type": "code",
   "execution_count": null,
   "metadata": {},
   "outputs": [],
   "source": [
    "x = \",\".join(result)\n",
    "\n",
    "print(x)"
   ]
  },
  {
   "cell_type": "code",
   "execution_count": null,
   "metadata": {},
   "outputs": [],
   "source": [
    "commas = df['address'].apply(lambda x: x.count(','))\n",
    "commas.value_counts()"
   ]
  },
  {
   "cell_type": "code",
   "execution_count": null,
   "metadata": {},
   "outputs": [],
   "source": [
    "# fill in missing subdistrict with '' (return 2, add space to 1, remove condo name for 3)\n",
    "def fix_address(address):\n",
    "    if address.count(\",\") == 2:\n",
    "        return address\n",
    "    elif address.count(\",\") == 1:\n",
    "        result = ' , '+address\n",
    "        return result\n",
    "    else:\n",
    "        remove_comma = address.split(',')\n",
    "        remove_comma = remove_comma[1:]\n",
    "        remove_comma = ','.join(remove_comma)\n",
    "        return remove_comma"
   ]
  },
  {
   "cell_type": "code",
   "execution_count": null,
   "metadata": {},
   "outputs": [],
   "source": [
    "# apply the def\n",
    "df['address'] = df['address'].apply(lambda x: fix_address(x))"
   ]
  },
  {
   "cell_type": "code",
   "execution_count": null,
   "metadata": {},
   "outputs": [],
   "source": [
    "commas = df['address'].apply(lambda x: x.count(','))\n",
    "commas.value_counts()"
   ]
  },
  {
   "cell_type": "code",
   "execution_count": null,
   "metadata": {},
   "outputs": [],
   "source": [
    "# seperate address into subdistricts, districts, and province\n",
    "address_split = df['address'].apply(lambda x:x.split(','))\n",
    "sub = []\n",
    "dis = []\n",
    "prov = []\n",
    "for a_l in address_split:\n",
    "    if a_l.count(',') > 2:\n",
    "        sub.append(a_l[:2])\n",
    "        dis.append(a_l[2])\n",
    "        prov.append(a_l[3])\n",
    "    else:\n",
    "        sub.append(a_l[0])\n",
    "        dis.append(a_l[1])\n",
    "        prov.append(a_l[2])\n",
    "df['sub'] = sub\n",
    "df['dis'] = dis\n",
    "df['prov'] = prov"
   ]
  },
  {
   "cell_type": "code",
   "execution_count": null,
   "metadata": {},
   "outputs": [],
   "source": [
    "df.head(10)"
   ]
  },
  {
   "cell_type": "code",
   "execution_count": null,
   "metadata": {},
   "outputs": [],
   "source": [
    "df['prov'].value_counts()"
   ]
  },
  {
   "cell_type": "code",
   "execution_count": null,
   "metadata": {},
   "outputs": [],
   "source": [
    "# some of these provinces only have 1 data point and are outlier\n",
    "df[['prices','prov']].groupby('prov').mean().sort_values('prices').plot(kind='bar',figsize=(16,8))"
   ]
  },
  {
   "cell_type": "code",
   "execution_count": null,
   "metadata": {},
   "outputs": [],
   "source": [
    "# remove outliers (one with less than 10 data points) \n",
    "def remove_outlier(prov_count):\n",
    "    if prov_count <10:\n",
    "        return prov"
   ]
  },
  {
   "cell_type": "code",
   "execution_count": null,
   "metadata": {},
   "outputs": [],
   "source": [
    "# remove outliers (one with less than 10 data points)\n",
    "test = df['prov'].value_counts()\n",
    "l_prov = test.apply(lambda x: remove_outlier(x))\n",
    "l_prov = l_prov.dropna()\n",
    "l_prov = l_prov.index\n",
    "l_prov = l_prov.tolist()\n",
    "l_prov"
   ]
  },
  {
   "cell_type": "code",
   "execution_count": null,
   "metadata": {},
   "outputs": [],
   "source": [
    "# The new graph make more sense\n",
    "df[['prices','prov']].groupby('prov').mean().drop(l_prov).sort_values('prices').plot(kind='bar',figsize=(16,8))\n",
    "plt.savefig('bar_plot.png')"
   ]
  },
  {
   "cell_type": "markdown",
   "metadata": {},
   "source": [
    "# Natural Language Processing"
   ]
  },
  {
   "cell_type": "code",
   "execution_count": null,
   "metadata": {},
   "outputs": [],
   "source": [
    "# natural language processing part\n",
    "# creating a text len\n",
    "df['title_len'] = df['titles'].apply(len)\n",
    "df['des_len'] = df['descriptions'].apply(len)"
   ]
  },
  {
   "cell_type": "code",
   "execution_count": null,
   "metadata": {},
   "outputs": [],
   "source": [
    "df.head(3)"
   ]
  },
  {
   "cell_type": "code",
   "execution_count": null,
   "metadata": {},
   "outputs": [],
   "source": [
    "# titles_len and status\n",
    "g = sns.FacetGrid(df,col='status', size=4, aspect=1.5)\n",
    "g.map(plt.hist,'title_len')"
   ]
  },
  {
   "cell_type": "code",
   "execution_count": null,
   "metadata": {},
   "outputs": [],
   "source": [
    "# des_len and status\n",
    "g = sns.FacetGrid(df,col='status', size=4, aspect=1.5)\n",
    "g.map(plt.hist,'des_len')"
   ]
  },
  {
   "cell_type": "code",
   "execution_count": null,
   "metadata": {},
   "outputs": [],
   "source": [
    "# des_len and beds\n",
    "plt.figure(figsize=(12,8))\n",
    "sns.boxplot(x='beds',y='des_len',data=df)\n",
    "plt.savefig('box_plot.png')"
   ]
  },
  {
   "cell_type": "code",
   "execution_count": null,
   "metadata": {},
   "outputs": [],
   "source": [
    "# title_len and beds\n",
    "plt.figure(figsize=(12,8))\n",
    "sns.boxplot(x='beds',y='title_len',data=df)"
   ]
  },
  {
   "cell_type": "code",
   "execution_count": null,
   "metadata": {},
   "outputs": [],
   "source": [
    "df['titles']"
   ]
  },
  {
   "cell_type": "code",
   "execution_count": null,
   "metadata": {},
   "outputs": [],
   "source": [
    "# some words I am are interested in (schools, airports, city, associatciation, university, and view)\n",
    "#โรงเรียน  สนามบิน เมือง โครงการ มหาวิยาลัย วิว"
   ]
  },
  {
   "cell_type": "code",
   "execution_count": null,
   "metadata": {},
   "outputs": [],
   "source": [
    "df['school'] = df['descriptions'].apply(lambda x: 1 if 'โรงเรียน' in x.lower() else 0)\n",
    "df['airport'] = df['descriptions'].apply(lambda x: 1 if 'สนามบิน' in x.lower() else 0)\n",
    "df['city'] = df['descriptions'].apply(lambda x: 1 if 'เมือง' in x.lower() else 0)\n",
    "df['association'] = df['descriptions'].apply(lambda x: 1 if 'โครงการ' in x.lower() else 0)\n",
    "df['university'] = df['descriptions'].apply(lambda x: 1 if 'มหาวิยาลัย' in x.lower() else 0)\n",
    "df['view'] = df['descriptions'].apply(lambda x: 1 if 'วิว' in x.lower() else 0)"
   ]
  },
  {
   "cell_type": "markdown",
   "metadata": {},
   "source": [
    "# Data Cleaning"
   ]
  },
  {
   "cell_type": "code",
   "execution_count": null,
   "metadata": {},
   "outputs": [],
   "source": [
    "df.drop('address', axis = 1, inplace = True)"
   ]
  },
  {
   "cell_type": "code",
   "execution_count": null,
   "metadata": {},
   "outputs": [],
   "source": [
    "df.head(10)"
   ]
  },
  {
   "cell_type": "code",
   "execution_count": null,
   "metadata": {},
   "outputs": [],
   "source": [
    "# creating dummies for prov\n",
    "prov_dummies = pd.get_dummies(data=df['prov'],drop_first=True)\n",
    "df = pd.concat([df.drop('prov',axis=1),prov_dummies],axis=1)"
   ]
  },
  {
   "cell_type": "code",
   "execution_count": null,
   "metadata": {},
   "outputs": [],
   "source": [
    "# creating dummies for dis\n",
    "sub_dummies = pd.get_dummies(data=df['dis'],drop_first=True)\n",
    "df = pd.concat([df.drop('dis',axis=1),sub_dummies],axis=1)"
   ]
  },
  {
   "cell_type": "code",
   "execution_count": null,
   "metadata": {},
   "outputs": [],
   "source": [
    "df.columns"
   ]
  },
  {
   "cell_type": "code",
   "execution_count": null,
   "metadata": {},
   "outputs": [],
   "source": [
    "# sub dis has alot of value duplicated from dis, so I will drop it \n",
    "df.drop('sub', axis=1, inplace = True)"
   ]
  },
  {
   "cell_type": "code",
   "execution_count": null,
   "metadata": {},
   "outputs": [],
   "source": [
    "# droping titles and description\n",
    "df.drop(['titles','descriptions'], axis=1, inplace = True)"
   ]
  },
  {
   "cell_type": "code",
   "execution_count": null,
   "metadata": {},
   "outputs": [],
   "source": [
    "# creating dummies for status\n",
    "status_dummies = pd.get_dummies(data=df['status'],drop_first=True)\n",
    "df = pd.concat([df.drop('status',axis=1),status_dummies],axis=1)"
   ]
  },
  {
   "cell_type": "code",
   "execution_count": null,
   "metadata": {},
   "outputs": [],
   "source": [
    "df.head(3)"
   ]
  },
  {
   "cell_type": "code",
   "execution_count": null,
   "metadata": {},
   "outputs": [],
   "source": [
    "df.columns.values"
   ]
  },
  {
   "cell_type": "code",
   "execution_count": null,
   "metadata": {},
   "outputs": [],
   "source": [
    "df.to_csv('thai_housing_price_data_cleaned.csv')"
   ]
  }
 ],
 "metadata": {
  "kernelspec": {
   "display_name": "Python 3",
   "language": "python",
   "name": "python3"
  },
  "language_info": {
   "codemirror_mode": {
    "name": "ipython",
    "version": 3
   },
   "file_extension": ".py",
   "mimetype": "text/x-python",
   "name": "python",
   "nbconvert_exporter": "python",
   "pygments_lexer": "ipython3",
   "version": "3.8.3"
  }
 },
 "nbformat": 4,
 "nbformat_minor": 4
}
