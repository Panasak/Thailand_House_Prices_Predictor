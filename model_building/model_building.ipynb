{
 "cells": [
  {
   "cell_type": "code",
   "execution_count": 1,
   "metadata": {},
   "outputs": [],
   "source": [
    "import pandas as pd\n",
    "import numpy as np\n",
    "import matplotlib.pyplot as plt\n",
    "import seaborn as sns"
   ]
  },
  {
   "cell_type": "code",
   "execution_count": 2,
   "metadata": {},
   "outputs": [],
   "source": [
    "df = pd.read_csv('../data_clean/thai_housing_price_data_cleaned.csv', index_col = 0)"
   ]
  },
  {
   "cell_type": "code",
   "execution_count": 3,
   "metadata": {},
   "outputs": [
    {
     "data": {
      "text/html": [
       "<div>\n",
       "<style scoped>\n",
       "    .dataframe tbody tr th:only-of-type {\n",
       "        vertical-align: middle;\n",
       "    }\n",
       "\n",
       "    .dataframe tbody tr th {\n",
       "        vertical-align: top;\n",
       "    }\n",
       "\n",
       "    .dataframe thead th {\n",
       "        text-align: right;\n",
       "    }\n",
       "</style>\n",
       "<table border=\"1\" class=\"dataframe\">\n",
       "  <thead>\n",
       "    <tr style=\"text-align: right;\">\n",
       "      <th></th>\n",
       "      <th>areas</th>\n",
       "      <th>beds</th>\n",
       "      <th>baths</th>\n",
       "      <th>listing_date</th>\n",
       "      <th>prices</th>\n",
       "      <th>title_len</th>\n",
       "      <th>des_len</th>\n",
       "      <th>school</th>\n",
       "      <th>airport</th>\n",
       "      <th>city</th>\n",
       "      <th>association</th>\n",
       "      <th>view</th>\n",
       "      <th>ใหม่</th>\n",
       "    </tr>\n",
       "  </thead>\n",
       "  <tbody>\n",
       "    <tr>\n",
       "      <th>0</th>\n",
       "      <td>50.0</td>\n",
       "      <td>3.0</td>\n",
       "      <td>3.0</td>\n",
       "      <td>2021-10-19</td>\n",
       "      <td>2490000</td>\n",
       "      <td>197</td>\n",
       "      <td>1788</td>\n",
       "      <td>1</td>\n",
       "      <td>1</td>\n",
       "      <td>1</td>\n",
       "      <td>0</td>\n",
       "      <td>0</td>\n",
       "      <td>1</td>\n",
       "    </tr>\n",
       "    <tr>\n",
       "      <th>1</th>\n",
       "      <td>82.0</td>\n",
       "      <td>3.0</td>\n",
       "      <td>4.0</td>\n",
       "      <td>2021-10-18</td>\n",
       "      <td>23900000</td>\n",
       "      <td>86</td>\n",
       "      <td>666</td>\n",
       "      <td>0</td>\n",
       "      <td>0</td>\n",
       "      <td>0</td>\n",
       "      <td>0</td>\n",
       "      <td>0</td>\n",
       "      <td>0</td>\n",
       "    </tr>\n",
       "    <tr>\n",
       "      <th>2</th>\n",
       "      <td>40.0</td>\n",
       "      <td>3.0</td>\n",
       "      <td>2.0</td>\n",
       "      <td>2021-10-18</td>\n",
       "      <td>3990000</td>\n",
       "      <td>85</td>\n",
       "      <td>1594</td>\n",
       "      <td>1</td>\n",
       "      <td>0</td>\n",
       "      <td>0</td>\n",
       "      <td>1</td>\n",
       "      <td>0</td>\n",
       "      <td>0</td>\n",
       "    </tr>\n",
       "    <tr>\n",
       "      <th>3</th>\n",
       "      <td>100.0</td>\n",
       "      <td>4.0</td>\n",
       "      <td>3.0</td>\n",
       "      <td>2021-10-18</td>\n",
       "      <td>5500000</td>\n",
       "      <td>53</td>\n",
       "      <td>832</td>\n",
       "      <td>0</td>\n",
       "      <td>0</td>\n",
       "      <td>0</td>\n",
       "      <td>0</td>\n",
       "      <td>0</td>\n",
       "      <td>0</td>\n",
       "    </tr>\n",
       "    <tr>\n",
       "      <th>4</th>\n",
       "      <td>50.0</td>\n",
       "      <td>3.0</td>\n",
       "      <td>2.0</td>\n",
       "      <td>2021-10-18</td>\n",
       "      <td>4200000</td>\n",
       "      <td>59</td>\n",
       "      <td>306</td>\n",
       "      <td>0</td>\n",
       "      <td>0</td>\n",
       "      <td>0</td>\n",
       "      <td>0</td>\n",
       "      <td>0</td>\n",
       "      <td>0</td>\n",
       "    </tr>\n",
       "    <tr>\n",
       "      <th>...</th>\n",
       "      <td>...</td>\n",
       "      <td>...</td>\n",
       "      <td>...</td>\n",
       "      <td>...</td>\n",
       "      <td>...</td>\n",
       "      <td>...</td>\n",
       "      <td>...</td>\n",
       "      <td>...</td>\n",
       "      <td>...</td>\n",
       "      <td>...</td>\n",
       "      <td>...</td>\n",
       "      <td>...</td>\n",
       "      <td>...</td>\n",
       "    </tr>\n",
       "    <tr>\n",
       "      <th>2395</th>\n",
       "      <td>100.0</td>\n",
       "      <td>5.0</td>\n",
       "      <td>5.0</td>\n",
       "      <td>2021-09-13</td>\n",
       "      <td>9900000</td>\n",
       "      <td>34</td>\n",
       "      <td>782</td>\n",
       "      <td>0</td>\n",
       "      <td>0</td>\n",
       "      <td>0</td>\n",
       "      <td>0</td>\n",
       "      <td>1</td>\n",
       "      <td>0</td>\n",
       "    </tr>\n",
       "    <tr>\n",
       "      <th>2396</th>\n",
       "      <td>100.0</td>\n",
       "      <td>5.0</td>\n",
       "      <td>3.0</td>\n",
       "      <td>2021-09-13</td>\n",
       "      <td>7500000</td>\n",
       "      <td>34</td>\n",
       "      <td>726</td>\n",
       "      <td>0</td>\n",
       "      <td>0</td>\n",
       "      <td>0</td>\n",
       "      <td>0</td>\n",
       "      <td>0</td>\n",
       "      <td>0</td>\n",
       "    </tr>\n",
       "    <tr>\n",
       "      <th>2397</th>\n",
       "      <td>40.0</td>\n",
       "      <td>2.0</td>\n",
       "      <td>1.0</td>\n",
       "      <td>2021-09-23</td>\n",
       "      <td>1800000</td>\n",
       "      <td>75</td>\n",
       "      <td>164</td>\n",
       "      <td>0</td>\n",
       "      <td>0</td>\n",
       "      <td>0</td>\n",
       "      <td>1</td>\n",
       "      <td>0</td>\n",
       "      <td>0</td>\n",
       "    </tr>\n",
       "    <tr>\n",
       "      <th>2398</th>\n",
       "      <td>NaN</td>\n",
       "      <td>3.0</td>\n",
       "      <td>3.0</td>\n",
       "      <td>2021-09-15</td>\n",
       "      <td>4600000</td>\n",
       "      <td>13</td>\n",
       "      <td>693</td>\n",
       "      <td>1</td>\n",
       "      <td>0</td>\n",
       "      <td>0</td>\n",
       "      <td>0</td>\n",
       "      <td>0</td>\n",
       "      <td>0</td>\n",
       "    </tr>\n",
       "    <tr>\n",
       "      <th>2399</th>\n",
       "      <td>65.0</td>\n",
       "      <td>3.0</td>\n",
       "      <td>3.0</td>\n",
       "      <td>2021-09-15</td>\n",
       "      <td>7850000</td>\n",
       "      <td>78</td>\n",
       "      <td>718</td>\n",
       "      <td>1</td>\n",
       "      <td>0</td>\n",
       "      <td>1</td>\n",
       "      <td>0</td>\n",
       "      <td>0</td>\n",
       "      <td>0</td>\n",
       "    </tr>\n",
       "  </tbody>\n",
       "</table>\n",
       "<p>2400 rows × 13 columns</p>\n",
       "</div>"
      ],
      "text/plain": [
       "      areas  beds  baths listing_date    prices  title_len  des_len  school  \\\n",
       "0      50.0   3.0    3.0   2021-10-19   2490000        197     1788       1   \n",
       "1      82.0   3.0    4.0   2021-10-18  23900000         86      666       0   \n",
       "2      40.0   3.0    2.0   2021-10-18   3990000         85     1594       1   \n",
       "3     100.0   4.0    3.0   2021-10-18   5500000         53      832       0   \n",
       "4      50.0   3.0    2.0   2021-10-18   4200000         59      306       0   \n",
       "...     ...   ...    ...          ...       ...        ...      ...     ...   \n",
       "2395  100.0   5.0    5.0   2021-09-13   9900000         34      782       0   \n",
       "2396  100.0   5.0    3.0   2021-09-13   7500000         34      726       0   \n",
       "2397   40.0   2.0    1.0   2021-09-23   1800000         75      164       0   \n",
       "2398    NaN   3.0    3.0   2021-09-15   4600000         13      693       1   \n",
       "2399   65.0   3.0    3.0   2021-09-15   7850000         78      718       1   \n",
       "\n",
       "      airport  city  association  view  ใหม่  \n",
       "0           1     1            0     0     1  \n",
       "1           0     0            0     0     0  \n",
       "2           0     0            1     0     0  \n",
       "3           0     0            0     0     0  \n",
       "4           0     0            0     0     0  \n",
       "...       ...   ...          ...   ...   ...  \n",
       "2395        0     0            0     1     0  \n",
       "2396        0     0            0     0     0  \n",
       "2397        0     0            1     0     0  \n",
       "2398        0     0            0     0     0  \n",
       "2399        0     1            0     0     0  \n",
       "\n",
       "[2400 rows x 13 columns]"
      ]
     },
     "execution_count": 3,
     "metadata": {},
     "output_type": "execute_result"
    }
   ],
   "source": [
    "df"
   ]
  },
  {
   "cell_type": "code",
   "execution_count": 4,
   "metadata": {},
   "outputs": [],
   "source": [
    "# drop houses with prices lower than 150,000 because these prices are too low to be true\n",
    "df.drop(df[df['prices'] < 150000].index, inplace=True)"
   ]
  },
  {
   "cell_type": "code",
   "execution_count": 5,
   "metadata": {},
   "outputs": [],
   "source": [
    "import datetime as dt"
   ]
  },
  {
   "cell_type": "code",
   "execution_count": 6,
   "metadata": {},
   "outputs": [],
   "source": [
    "# turn listing date from strings to float\n",
    "df['listing_date'] = pd.to_datetime(df['listing_date'])"
   ]
  },
  {
   "cell_type": "code",
   "execution_count": 7,
   "metadata": {},
   "outputs": [
    {
     "data": {
      "text/plain": [
       "0      2021-10-19\n",
       "1      2021-10-18\n",
       "2      2021-10-18\n",
       "3      2021-10-18\n",
       "4      2021-10-18\n",
       "          ...    \n",
       "2395   2021-09-13\n",
       "2396   2021-09-13\n",
       "2397   2021-09-23\n",
       "2398   2021-09-15\n",
       "2399   2021-09-15\n",
       "Name: listing_date, Length: 2283, dtype: datetime64[ns]"
      ]
     },
     "execution_count": 7,
     "metadata": {},
     "output_type": "execute_result"
    }
   ],
   "source": [
    "df['listing_date']"
   ]
  },
  {
   "cell_type": "code",
   "execution_count": 8,
   "metadata": {},
   "outputs": [
    {
     "data": {
      "text/plain": [
       "areas           0.025405\n",
       "beds            0.025405\n",
       "baths           0.025405\n",
       "listing_date    0.025405\n",
       "prices          0.025405\n",
       "title_len       0.025405\n",
       "des_len         0.025405\n",
       "school          0.025405\n",
       "airport         0.025405\n",
       "city            0.025405\n",
       "association     0.025405\n",
       "view            0.025405\n",
       "ใหม่            0.025405\n",
       "dtype: float64"
      ]
     },
     "execution_count": 8,
     "metadata": {},
     "output_type": "execute_result"
    }
   ],
   "source": [
    "# Only 2.5% of the data is missing the bed and baths so we can drop those\n",
    "df['beds'].isna().sum()/df.apply(len)"
   ]
  },
  {
   "cell_type": "code",
   "execution_count": 9,
   "metadata": {},
   "outputs": [],
   "source": [
    "df.dropna(subset=['beds','baths'], inplace = True)"
   ]
  },
  {
   "cell_type": "code",
   "execution_count": 10,
   "metadata": {},
   "outputs": [
    {
     "data": {
      "text/plain": [
       "areas           0.346865\n",
       "beds            0.346865\n",
       "baths           0.346865\n",
       "listing_date    0.346865\n",
       "prices          0.346865\n",
       "title_len       0.346865\n",
       "des_len         0.346865\n",
       "school          0.346865\n",
       "airport         0.346865\n",
       "city            0.346865\n",
       "association     0.346865\n",
       "view            0.346865\n",
       "ใหม่            0.346865\n",
       "dtype: float64"
      ]
     },
     "execution_count": 10,
     "metadata": {},
     "output_type": "execute_result"
    }
   ],
   "source": [
    "# 34% of the data has no areas\n",
    "df['areas'].isna().sum()/df.apply(len)"
   ]
  },
  {
   "cell_type": "code",
   "execution_count": 11,
   "metadata": {},
   "outputs": [],
   "source": [
    "# deletes 15 and 21 bedrooms \n",
    "df = df[(df['beds'] != 15) &(df['beds'] != 21)& (df['beds'] != 32)]"
   ]
  },
  {
   "cell_type": "code",
   "execution_count": 12,
   "metadata": {},
   "outputs": [
    {
     "data": {
      "text/html": [
       "<div>\n",
       "<style scoped>\n",
       "    .dataframe tbody tr th:only-of-type {\n",
       "        vertical-align: middle;\n",
       "    }\n",
       "\n",
       "    .dataframe tbody tr th {\n",
       "        vertical-align: top;\n",
       "    }\n",
       "\n",
       "    .dataframe thead th {\n",
       "        text-align: right;\n",
       "    }\n",
       "</style>\n",
       "<table border=\"1\" class=\"dataframe\">\n",
       "  <thead>\n",
       "    <tr style=\"text-align: right;\">\n",
       "      <th></th>\n",
       "      <th>areas</th>\n",
       "      <th>baths</th>\n",
       "      <th>prices</th>\n",
       "      <th>title_len</th>\n",
       "      <th>des_len</th>\n",
       "      <th>school</th>\n",
       "      <th>airport</th>\n",
       "      <th>city</th>\n",
       "      <th>association</th>\n",
       "      <th>view</th>\n",
       "      <th>ใหม่</th>\n",
       "    </tr>\n",
       "    <tr>\n",
       "      <th>beds</th>\n",
       "      <th></th>\n",
       "      <th></th>\n",
       "      <th></th>\n",
       "      <th></th>\n",
       "      <th></th>\n",
       "      <th></th>\n",
       "      <th></th>\n",
       "      <th></th>\n",
       "      <th></th>\n",
       "      <th></th>\n",
       "      <th></th>\n",
       "    </tr>\n",
       "  </thead>\n",
       "  <tbody>\n",
       "    <tr>\n",
       "      <th>1.0</th>\n",
       "      <td>74.176471</td>\n",
       "      <td>1.500000</td>\n",
       "      <td>6.815455e+06</td>\n",
       "      <td>56.272727</td>\n",
       "      <td>869.136364</td>\n",
       "      <td>0.227273</td>\n",
       "      <td>0.090909</td>\n",
       "      <td>0.136364</td>\n",
       "      <td>0.363636</td>\n",
       "      <td>0.136364</td>\n",
       "      <td>0.181818</td>\n",
       "    </tr>\n",
       "    <tr>\n",
       "      <th>2.0</th>\n",
       "      <td>67.260606</td>\n",
       "      <td>1.807860</td>\n",
       "      <td>3.379967e+06</td>\n",
       "      <td>70.580786</td>\n",
       "      <td>899.109170</td>\n",
       "      <td>0.262009</td>\n",
       "      <td>0.126638</td>\n",
       "      <td>0.235808</td>\n",
       "      <td>0.362445</td>\n",
       "      <td>0.052402</td>\n",
       "      <td>0.109170</td>\n",
       "    </tr>\n",
       "    <tr>\n",
       "      <th>3.0</th>\n",
       "      <td>68.282869</td>\n",
       "      <td>2.563526</td>\n",
       "      <td>6.305615e+06</td>\n",
       "      <td>76.461538</td>\n",
       "      <td>1075.698358</td>\n",
       "      <td>0.319793</td>\n",
       "      <td>0.164218</td>\n",
       "      <td>0.273984</td>\n",
       "      <td>0.490925</td>\n",
       "      <td>0.072602</td>\n",
       "      <td>0.093345</td>\n",
       "    </tr>\n",
       "    <tr>\n",
       "      <th>4.0</th>\n",
       "      <td>87.720117</td>\n",
       "      <td>3.459016</td>\n",
       "      <td>1.404096e+07</td>\n",
       "      <td>78.109290</td>\n",
       "      <td>1135.726776</td>\n",
       "      <td>0.313297</td>\n",
       "      <td>0.136612</td>\n",
       "      <td>0.273224</td>\n",
       "      <td>0.491803</td>\n",
       "      <td>0.111111</td>\n",
       "      <td>0.065574</td>\n",
       "    </tr>\n",
       "    <tr>\n",
       "      <th>5.0</th>\n",
       "      <td>123.068966</td>\n",
       "      <td>4.633721</td>\n",
       "      <td>2.637166e+07</td>\n",
       "      <td>79.674419</td>\n",
       "      <td>1175.244186</td>\n",
       "      <td>0.337209</td>\n",
       "      <td>0.145349</td>\n",
       "      <td>0.197674</td>\n",
       "      <td>0.331395</td>\n",
       "      <td>0.093023</td>\n",
       "      <td>0.093023</td>\n",
       "    </tr>\n",
       "    <tr>\n",
       "      <th>6.0</th>\n",
       "      <td>165.580645</td>\n",
       "      <td>5.622222</td>\n",
       "      <td>2.910200e+07</td>\n",
       "      <td>69.977778</td>\n",
       "      <td>1084.244444</td>\n",
       "      <td>0.244444</td>\n",
       "      <td>0.200000</td>\n",
       "      <td>0.177778</td>\n",
       "      <td>0.266667</td>\n",
       "      <td>0.111111</td>\n",
       "      <td>0.066667</td>\n",
       "    </tr>\n",
       "    <tr>\n",
       "      <th>7.0</th>\n",
       "      <td>64.000000</td>\n",
       "      <td>5.416667</td>\n",
       "      <td>3.357833e+07</td>\n",
       "      <td>63.416667</td>\n",
       "      <td>1092.333333</td>\n",
       "      <td>0.250000</td>\n",
       "      <td>0.083333</td>\n",
       "      <td>0.083333</td>\n",
       "      <td>0.416667</td>\n",
       "      <td>0.416667</td>\n",
       "      <td>0.083333</td>\n",
       "    </tr>\n",
       "    <tr>\n",
       "      <th>8.0</th>\n",
       "      <td>88.625000</td>\n",
       "      <td>7.461538</td>\n",
       "      <td>4.061154e+07</td>\n",
       "      <td>86.076923</td>\n",
       "      <td>1185.923077</td>\n",
       "      <td>0.153846</td>\n",
       "      <td>0.076923</td>\n",
       "      <td>0.153846</td>\n",
       "      <td>0.153846</td>\n",
       "      <td>0.000000</td>\n",
       "      <td>0.000000</td>\n",
       "    </tr>\n",
       "    <tr>\n",
       "      <th>9.0</th>\n",
       "      <td>138.000000</td>\n",
       "      <td>8.333333</td>\n",
       "      <td>1.396667e+07</td>\n",
       "      <td>69.666667</td>\n",
       "      <td>1028.666667</td>\n",
       "      <td>0.666667</td>\n",
       "      <td>0.333333</td>\n",
       "      <td>1.000000</td>\n",
       "      <td>0.666667</td>\n",
       "      <td>0.000000</td>\n",
       "      <td>0.000000</td>\n",
       "    </tr>\n",
       "    <tr>\n",
       "      <th>10.0</th>\n",
       "      <td>167.500000</td>\n",
       "      <td>8.500000</td>\n",
       "      <td>6.765000e+07</td>\n",
       "      <td>74.666667</td>\n",
       "      <td>1161.333333</td>\n",
       "      <td>0.500000</td>\n",
       "      <td>0.000000</td>\n",
       "      <td>0.333333</td>\n",
       "      <td>0.166667</td>\n",
       "      <td>0.000000</td>\n",
       "      <td>0.000000</td>\n",
       "    </tr>\n",
       "    <tr>\n",
       "      <th>11.0</th>\n",
       "      <td>200.000000</td>\n",
       "      <td>8.500000</td>\n",
       "      <td>4.945000e+07</td>\n",
       "      <td>46.500000</td>\n",
       "      <td>586.000000</td>\n",
       "      <td>0.000000</td>\n",
       "      <td>0.000000</td>\n",
       "      <td>0.000000</td>\n",
       "      <td>0.000000</td>\n",
       "      <td>0.500000</td>\n",
       "      <td>0.000000</td>\n",
       "    </tr>\n",
       "    <tr>\n",
       "      <th>12.0</th>\n",
       "      <td>235.000000</td>\n",
       "      <td>13.000000</td>\n",
       "      <td>7.900000e+07</td>\n",
       "      <td>60.000000</td>\n",
       "      <td>832.000000</td>\n",
       "      <td>0.000000</td>\n",
       "      <td>0.000000</td>\n",
       "      <td>0.000000</td>\n",
       "      <td>0.000000</td>\n",
       "      <td>0.000000</td>\n",
       "      <td>0.000000</td>\n",
       "    </tr>\n",
       "    <tr>\n",
       "      <th>13.0</th>\n",
       "      <td>53.000000</td>\n",
       "      <td>13.000000</td>\n",
       "      <td>2.950000e+06</td>\n",
       "      <td>114.000000</td>\n",
       "      <td>2779.000000</td>\n",
       "      <td>1.000000</td>\n",
       "      <td>0.000000</td>\n",
       "      <td>1.000000</td>\n",
       "      <td>0.000000</td>\n",
       "      <td>0.000000</td>\n",
       "      <td>0.000000</td>\n",
       "    </tr>\n",
       "  </tbody>\n",
       "</table>\n",
       "</div>"
      ],
      "text/plain": [
       "           areas      baths        prices   title_len      des_len    school  \\\n",
       "beds                                                                           \n",
       "1.0    74.176471   1.500000  6.815455e+06   56.272727   869.136364  0.227273   \n",
       "2.0    67.260606   1.807860  3.379967e+06   70.580786   899.109170  0.262009   \n",
       "3.0    68.282869   2.563526  6.305615e+06   76.461538  1075.698358  0.319793   \n",
       "4.0    87.720117   3.459016  1.404096e+07   78.109290  1135.726776  0.313297   \n",
       "5.0   123.068966   4.633721  2.637166e+07   79.674419  1175.244186  0.337209   \n",
       "6.0   165.580645   5.622222  2.910200e+07   69.977778  1084.244444  0.244444   \n",
       "7.0    64.000000   5.416667  3.357833e+07   63.416667  1092.333333  0.250000   \n",
       "8.0    88.625000   7.461538  4.061154e+07   86.076923  1185.923077  0.153846   \n",
       "9.0   138.000000   8.333333  1.396667e+07   69.666667  1028.666667  0.666667   \n",
       "10.0  167.500000   8.500000  6.765000e+07   74.666667  1161.333333  0.500000   \n",
       "11.0  200.000000   8.500000  4.945000e+07   46.500000   586.000000  0.000000   \n",
       "12.0  235.000000  13.000000  7.900000e+07   60.000000   832.000000  0.000000   \n",
       "13.0   53.000000  13.000000  2.950000e+06  114.000000  2779.000000  1.000000   \n",
       "\n",
       "       airport      city  association      view      ใหม่  \n",
       "beds                                                       \n",
       "1.0   0.090909  0.136364     0.363636  0.136364  0.181818  \n",
       "2.0   0.126638  0.235808     0.362445  0.052402  0.109170  \n",
       "3.0   0.164218  0.273984     0.490925  0.072602  0.093345  \n",
       "4.0   0.136612  0.273224     0.491803  0.111111  0.065574  \n",
       "5.0   0.145349  0.197674     0.331395  0.093023  0.093023  \n",
       "6.0   0.200000  0.177778     0.266667  0.111111  0.066667  \n",
       "7.0   0.083333  0.083333     0.416667  0.416667  0.083333  \n",
       "8.0   0.076923  0.153846     0.153846  0.000000  0.000000  \n",
       "9.0   0.333333  1.000000     0.666667  0.000000  0.000000  \n",
       "10.0  0.000000  0.333333     0.166667  0.000000  0.000000  \n",
       "11.0  0.000000  0.000000     0.000000  0.500000  0.000000  \n",
       "12.0  0.000000  0.000000     0.000000  0.000000  0.000000  \n",
       "13.0  0.000000  1.000000     0.000000  0.000000  0.000000  "
      ]
     },
     "execution_count": 12,
     "metadata": {},
     "output_type": "execute_result"
    }
   ],
   "source": [
    "df.groupby('beds').mean()"
   ]
  },
  {
   "cell_type": "code",
   "execution_count": 13,
   "metadata": {},
   "outputs": [
    {
     "data": {
      "text/plain": [
       "80.03455425017277"
      ]
     },
     "execution_count": 13,
     "metadata": {},
     "output_type": "execute_result"
    }
   ],
   "source": [
    "df['areas'].mean()"
   ]
  },
  {
   "cell_type": "code",
   "execution_count": 14,
   "metadata": {},
   "outputs": [],
   "source": [
    "def fill_in_area(areas):\n",
    "    if np.isnan(areas):\n",
    "        return df['areas'].mean()\n",
    "    else:\n",
    "        return areas"
   ]
  },
  {
   "cell_type": "code",
   "execution_count": 15,
   "metadata": {},
   "outputs": [
    {
     "name": "stderr",
     "output_type": "stream",
     "text": [
      "<ipython-input-15-2baf857104d8>:1: SettingWithCopyWarning: \n",
      "A value is trying to be set on a copy of a slice from a DataFrame.\n",
      "Try using .loc[row_indexer,col_indexer] = value instead\n",
      "\n",
      "See the caveats in the documentation: https://pandas.pydata.org/pandas-docs/stable/user_guide/indexing.html#returning-a-view-versus-a-copy\n",
      "  df['areas'] = df.apply(lambda x: fill_in_area(x['areas']), axis=1)\n"
     ]
    }
   ],
   "source": [
    "df['areas'] = df.apply(lambda x: fill_in_area(x['areas']), axis=1)"
   ]
  },
  {
   "cell_type": "code",
   "execution_count": 16,
   "metadata": {},
   "outputs": [
    {
     "data": {
      "text/plain": [
       "areas           0\n",
       "beds            0\n",
       "baths           0\n",
       "listing_date    0\n",
       "prices          0\n",
       "title_len       0\n",
       "des_len         0\n",
       "school          0\n",
       "airport         0\n",
       "city            0\n",
       "association     0\n",
       "view            0\n",
       "ใหม่            0\n",
       "dtype: int64"
      ]
     },
     "execution_count": 16,
     "metadata": {},
     "output_type": "execute_result"
    }
   ],
   "source": [
    "pd.set_option('display.max_rows', None)\n",
    "df.isnull().sum()"
   ]
  },
  {
   "cell_type": "code",
   "execution_count": 17,
   "metadata": {},
   "outputs": [
    {
     "name": "stderr",
     "output_type": "stream",
     "text": [
      "<ipython-input-17-e9883aa0a438>:1: SettingWithCopyWarning: \n",
      "A value is trying to be set on a copy of a slice from a DataFrame.\n",
      "Try using .loc[row_indexer,col_indexer] = value instead\n",
      "\n",
      "See the caveats in the documentation: https://pandas.pydata.org/pandas-docs/stable/user_guide/indexing.html#returning-a-view-versus-a-copy\n",
      "  df['listing_date'] = df['listing_date'].map(dt.datetime.toordinal)\n"
     ]
    }
   ],
   "source": [
    "df['listing_date'] = df['listing_date'].map(dt.datetime.toordinal)"
   ]
  },
  {
   "cell_type": "code",
   "execution_count": 18,
   "metadata": {},
   "outputs": [],
   "source": [
    "from sklearn.model_selection import train_test_split"
   ]
  },
  {
   "cell_type": "code",
   "execution_count": 19,
   "metadata": {},
   "outputs": [],
   "source": [
    "y = df['prices']\n",
    "X = df.drop('prices', axis = 1)"
   ]
  },
  {
   "cell_type": "code",
   "execution_count": 20,
   "metadata": {},
   "outputs": [],
   "source": [
    "X_train, X_test, y_train, y_test = train_test_split(X, y, test_size=0.33, random_state=42)"
   ]
  },
  {
   "cell_type": "code",
   "execution_count": 21,
   "metadata": {},
   "outputs": [],
   "source": [
    "#importing the library\n",
    "from sklearn.linear_model import LinearRegression,Lasso"
   ]
  },
  {
   "cell_type": "code",
   "execution_count": 22,
   "metadata": {},
   "outputs": [],
   "source": [
    "# starting with multiple linear regression as a based line\n",
    "linear_model = LinearRegression()"
   ]
  },
  {
   "cell_type": "code",
   "execution_count": 23,
   "metadata": {},
   "outputs": [
    {
     "data": {
      "text/plain": [
       "LinearRegression()"
      ]
     },
     "execution_count": 23,
     "metadata": {},
     "output_type": "execute_result"
    }
   ],
   "source": [
    "linear_model.fit(X_train,y_train)"
   ]
  },
  {
   "cell_type": "code",
   "execution_count": 24,
   "metadata": {},
   "outputs": [],
   "source": [
    "predictions = linear_model.predict(X_test)"
   ]
  },
  {
   "cell_type": "code",
   "execution_count": 25,
   "metadata": {},
   "outputs": [
    {
     "data": {
      "text/plain": [
       "Text(0, 0.5, 'Predicted Y')"
      ]
     },
     "execution_count": 25,
     "metadata": {},
     "output_type": "execute_result"
    },
    {
     "data": {
      "image/png": "[encoded data removed]",
      "text/plain": [
       "<Figure size 432x288 with 1 Axes>"
      ]
     },
     "metadata": {
      "needs_background": "light"
     },
     "output_type": "display_data"
    }
   ],
   "source": [
    "plt.scatter(y_test,predictions)\n",
    "plt.xlabel('Y Test')\n",
    "plt.ylabel('Predicted Y')"
   ]
  },
  {
   "cell_type": "code",
   "execution_count": 26,
   "metadata": {},
   "outputs": [
    {
     "name": "stdout",
     "output_type": "stream",
     "text": [
      "MAE: 6755659.78101902\n",
      "MSE: 230333044787831.28\n",
      "RMSE: 15176727.077595858\n"
     ]
    }
   ],
   "source": [
    "# calculate these metrics by hand!\n",
    "from sklearn import metrics\n",
    "\n",
    "print('MAE:', metrics.mean_absolute_error(y_test, predictions))\n",
    "print('MSE:', metrics.mean_squared_error(y_test, predictions))\n",
    "print('RMSE:', np.sqrt(metrics.mean_squared_error(y_test, predictions)))"
   ]
  },
  {
   "cell_type": "code",
   "execution_count": 27,
   "metadata": {},
   "outputs": [],
   "source": [
    "# so far the Linear Regression model is doing terrible at predicting the model"
   ]
  },
  {
   "cell_type": "code",
   "execution_count": 28,
   "metadata": {},
   "outputs": [],
   "source": [
    "# lasso regression\n",
    "from sklearn.model_selection import cross_val_score\n",
    "from sklearn.model_selection import RepeatedKFold"
   ]
  },
  {
   "cell_type": "code",
   "execution_count": 29,
   "metadata": {},
   "outputs": [
    {
     "name": "stdout",
     "output_type": "stream",
     "text": [
      "Mean MAE: 6557123.785 (765703.029)\n"
     ]
    }
   ],
   "source": [
    "# define model\n",
    "lasso_model = Lasso(alpha=1.0)\n",
    "# define model evaluation method\n",
    "cv = RepeatedKFold(n_splits=10, n_repeats=3, random_state=1)\n",
    "# evaluate model\n",
    "scores = cross_val_score(lasso_model, X_train, y_train, scoring='neg_mean_absolute_error', cv=cv, n_jobs=-1)\n",
    "# force scores to be positive\n",
    "scores = np.absolute(scores)\n",
    "print('Mean MAE: %.3f (%.3f)' % (np.mean(scores), np.std(scores)))"
   ]
  },
  {
   "cell_type": "code",
   "execution_count": 30,
   "metadata": {},
   "outputs": [
    {
     "data": {
      "text/plain": [
       "Lasso()"
      ]
     },
     "execution_count": 30,
     "metadata": {},
     "output_type": "execute_result"
    }
   ],
   "source": [
    "lasso_model.fit(X_train, y_train)"
   ]
  },
  {
   "cell_type": "code",
   "execution_count": 31,
   "metadata": {},
   "outputs": [],
   "source": [
    "lasso_predict = lasso_model.predict(X_test)"
   ]
  },
  {
   "cell_type": "code",
   "execution_count": 32,
   "metadata": {},
   "outputs": [],
   "source": [
    "from sklearn.model_selection import GridSearchCV"
   ]
  },
  {
   "cell_type": "code",
   "execution_count": 33,
   "metadata": {},
   "outputs": [],
   "source": [
    "# define grid\n",
    "grid = dict()\n",
    "grid['alpha'] = np.arange(0, 1, 0.01)\n",
    "# define search\n",
    "search = GridSearchCV(lasso_model, grid, scoring='neg_mean_absolute_error', cv=cv, n_jobs=-1, verbose=2)"
   ]
  },
  {
   "cell_type": "code",
   "execution_count": 34,
   "metadata": {},
   "outputs": [],
   "source": [
    "# perform the search\n",
    "#results = search.fit(X, y)"
   ]
  },
  {
   "cell_type": "code",
   "execution_count": 35,
   "metadata": {},
   "outputs": [],
   "source": [
    "# summarize\n",
    "#print('MAE: %.3f' % results.best_score_)\n",
    "#print('Config: %s' % results.best_params_)"
   ]
  },
  {
   "cell_type": "code",
   "execution_count": 36,
   "metadata": {},
   "outputs": [],
   "source": [
    "# use alpha 0.99\n",
    "# define model\n",
    "lasso_model = Lasso(alpha=0.99)\n",
    "lasso_model.fit(X_train,y_train)\n",
    "lasso_predictions = lasso_model.predict(X_test)"
   ]
  },
  {
   "cell_type": "code",
   "execution_count": 37,
   "metadata": {},
   "outputs": [
    {
     "data": {
      "text/plain": [
       "Text(0, 0.5, 'Predicted Y')"
      ]
     },
     "execution_count": 37,
     "metadata": {},
     "output_type": "execute_result"
    },
    {
     "data": {
      "image/png": "[encoded data removed]",
      "text/plain": [
       "<Figure size 432x288 with 1 Axes>"
      ]
     },
     "metadata": {
      "needs_background": "light"
     },
     "output_type": "display_data"
    }
   ],
   "source": [
    "plt.scatter(y_test,lasso_predictions)\n",
    "plt.xlabel('Y Test')\n",
    "plt.ylabel('Predicted Y')"
   ]
  },
  {
   "cell_type": "code",
   "execution_count": 38,
   "metadata": {},
   "outputs": [
    {
     "name": "stdout",
     "output_type": "stream",
     "text": [
      "MAE: 6755658.561687645\n",
      "MSE: 230333043027618.8\n",
      "RMSE: 15176727.01960534\n"
     ]
    }
   ],
   "source": [
    "print('MAE:', metrics.mean_absolute_error(y_test, lasso_predictions))\n",
    "print('MSE:', metrics.mean_squared_error(y_test, lasso_predictions))\n",
    "print('RMSE:', np.sqrt(metrics.mean_squared_error(y_test, lasso_predictions)))"
   ]
  },
  {
   "cell_type": "code",
   "execution_count": 39,
   "metadata": {},
   "outputs": [],
   "source": [
    "#The lasso model is doing way better than the linear regression"
   ]
  },
  {
   "cell_type": "code",
   "execution_count": 40,
   "metadata": {},
   "outputs": [],
   "source": [
    "# random forest regression (because there are alot of valuables)\n",
    "from sklearn.ensemble import RandomForestRegressor"
   ]
  },
  {
   "cell_type": "code",
   "execution_count": 41,
   "metadata": {},
   "outputs": [],
   "source": [
    "rfc = RandomForestRegressor(n_estimators=600)"
   ]
  },
  {
   "cell_type": "code",
   "execution_count": 42,
   "metadata": {},
   "outputs": [
    {
     "data": {
      "text/plain": [
       "RandomForestRegressor(n_estimators=600)"
      ]
     },
     "execution_count": 42,
     "metadata": {},
     "output_type": "execute_result"
    }
   ],
   "source": [
    "rfc.fit(X_train,y_train)"
   ]
  },
  {
   "cell_type": "code",
   "execution_count": 43,
   "metadata": {},
   "outputs": [],
   "source": [
    "rfc_predictions = rfc.predict(X_test)"
   ]
  },
  {
   "cell_type": "code",
   "execution_count": 44,
   "metadata": {},
   "outputs": [
    {
     "data": {
      "text/plain": [
       "Text(0, 0.5, 'Predicted Y')"
      ]
     },
     "execution_count": 44,
     "metadata": {},
     "output_type": "execute_result"
    },
    {
     "data": {
      "image/png": "[encoded data removed]",
      "text/plain": [
       "<Figure size 432x288 with 1 Axes>"
      ]
     },
     "metadata": {
      "needs_background": "light"
     },
     "output_type": "display_data"
    }
   ],
   "source": [
    "plt.scatter(y_test,rfc_predictions)\n",
    "plt.xlabel('Y Test')\n",
    "plt.ylabel('Predicted Y')"
   ]
  },
  {
   "cell_type": "code",
   "execution_count": 45,
   "metadata": {},
   "outputs": [
    {
     "name": "stdout",
     "output_type": "stream",
     "text": [
      "MAE: 5178534.021141552\n",
      "MSE: 167852123395374.9\n",
      "RMSE: 12955775.677101502\n"
     ]
    }
   ],
   "source": [
    "print('MAE:', metrics.mean_absolute_error(y_test, rfc_predictions))\n",
    "print('MSE:', metrics.mean_squared_error(y_test, rfc_predictions))\n",
    "print('RMSE:', np.sqrt(metrics.mean_squared_error(y_test, rfc_predictions)))"
   ]
  },
  {
   "cell_type": "code",
   "execution_count": 46,
   "metadata": {},
   "outputs": [],
   "source": [
    "#The rfc preformed the best"
   ]
  },
  {
   "cell_type": "code",
   "execution_count": 51,
   "metadata": {},
   "outputs": [
    {
     "data": {
      "image/png": "[encoded data removed]",
      "text/plain": [
       "<Figure size 432x288 with 1 Axes>"
      ]
     },
     "metadata": {
      "needs_background": "light"
     },
     "output_type": "display_data"
    }
   ],
   "source": [
    "sns.distplot((y_test-rfc_predictions),bins=50);"
   ]
  },
  {
   "cell_type": "markdown",
   "metadata": {},
   "source": [
    "# Productization"
   ]
  },
  {
   "cell_type": "code",
   "execution_count": 47,
   "metadata": {},
   "outputs": [],
   "source": [
    "# pickle the model (rfc)\n",
    "import pickle\n",
    "\n",
    "pickl = {'model': rfc}\n",
    "pickle.dump( pickl, open( 'model_file' + \".p\", \"wb\" ) )"
   ]
  },
  {
   "cell_type": "code",
   "execution_count": 48,
   "metadata": {},
   "outputs": [],
   "source": [
    "# build a Flask API\n",
    "def load_models():\n",
    "    file_name = \"model_file.p\"\n",
    "    with open(file_name, 'rb') as pickled:\n",
    "        data = pickle.load(pickled)\n",
    "        model = data['model']\n",
    "    return model"
   ]
  },
  {
   "cell_type": "code",
   "execution_count": 49,
   "metadata": {},
   "outputs": [
    {
     "data": {
      "text/plain": [
       "array([4311340.83333333])"
      ]
     },
     "execution_count": 49,
     "metadata": {},
     "output_type": "execute_result"
    }
   ],
   "source": [
    "load_models().predict(X_test.iloc[1,:].values.reshape(1,-1))"
   ]
  },
  {
   "cell_type": "code",
   "execution_count": 50,
   "metadata": {},
   "outputs": [
    {
     "data": {
      "text/plain": [
       "[49.0, 3.0, 2.0, 738057.0, 75.0, 657.0, 0.0, 0.0, 0.0, 1.0, 0.0, 0.0]"
      ]
     },
     "execution_count": 50,
     "metadata": {},
     "output_type": "execute_result"
    }
   ],
   "source": [
    "list(X_test.iloc[1,:])"
   ]
  },
  {
   "cell_type": "code",
   "execution_count": null,
   "metadata": {},
   "outputs": [],
   "source": []
  }
 ],
 "metadata": {
  "kernelspec": {
   "display_name": "Python 3",
   "language": "python",
   "name": "python3"
  },
  "language_info": {
   "codemirror_mode": {
    "name": "ipython",
    "version": 3
   },
   "file_extension": ".py",
   "mimetype": "text/x-python",
   "name": "python",
   "nbconvert_exporter": "python",
   "pygments_lexer": "ipython3",
   "version": "3.8.3"
  }
 },
 "nbformat": 4,
 "nbformat_minor": 4
}
